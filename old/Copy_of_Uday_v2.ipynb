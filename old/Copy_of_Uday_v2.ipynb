{
  "nbformat": 4,
  "nbformat_minor": 0,
  "metadata": {
    "colab": {
      "name": "Copy of Uday.ipynb",
      "version": "0.3.2",
      "provenance": [],
      "toc_visible": true
    },
    "kernelspec": {
      "name": "python3",
      "display_name": "Python 3"
    }
  },
  "cells": [
    {
      "metadata": {
        "id": "zUt_WpEm6v8j",
        "colab_type": "code",
        "colab": {}
      },
      "cell_type": "code",
      "source": [
        "!pip install PyDrive"
      ],
      "execution_count": 0,
      "outputs": []
    },
    {
      "metadata": {
        "id": "_bQcCo0Ehp7p",
        "colab_type": "code",
        "colab": {
          "base_uri": "https://localhost:8080/",
          "height": 35
        },
        "outputId": "daef288d-9c40-43b0-f044-39cc59f42355"
      },
      "cell_type": "code",
      "source": [
        "!ls"
      ],
      "execution_count": 5,
      "outputs": [
        {
          "output_type": "stream",
          "text": [
            "sample_data\n"
          ],
          "name": "stdout"
        }
      ]
    },
    {
      "metadata": {
        "id": "OM5sf-PM6cWW",
        "colab_type": "code",
        "colab": {}
      },
      "cell_type": "code",
      "source": [
        "\n",
        "import os\n",
        "from pydrive.auth import GoogleAuth\n",
        "from pydrive.drive import GoogleDrive\n",
        "from google.colab import auth\n",
        "from oauth2client.client import GoogleCredentials"
      ],
      "execution_count": 0,
      "outputs": []
    },
    {
      "metadata": {
        "id": "QeFX0mTu66yp",
        "colab_type": "code",
        "colab": {}
      },
      "cell_type": "code",
      "source": [
        "auth.authenticate_user()\n",
        "gauth = GoogleAuth()\n",
        "gauth.credentials = GoogleCredentials.get_application_default()\n",
        "drive = GoogleDrive(gauth)"
      ],
      "execution_count": 0,
      "outputs": []
    },
    {
      "metadata": {
        "id": "ZLawO-907Ouz",
        "colab_type": "code",
        "colab": {}
      },
      "cell_type": "code",
      "source": [
        "download = drive.CreateFile({'id': '1kfUcDYHPdGkOyfhsYO2xPYQ9THStwdZu'})\n",
        "download.GetContentFile('102623729836648532953-raw-reply-pairs.pkl')"
      ],
      "execution_count": 0,
      "outputs": []
    },
    {
      "metadata": {
        "id": "XSoUCUN48Wzg",
        "colab_type": "code",
        "colab": {}
      },
      "cell_type": "code",
      "source": [
        "download = drive.CreateFile({'id': '1V-ogRtNQ9xr5JglcPw-zAjp-O7mjzEva'})\n",
        "download.GetContentFile('108371130441830548619-raw-reply-pairs.pkl')"
      ],
      "execution_count": 0,
      "outputs": []
    },
    {
      "metadata": {
        "id": "GJEQPvuEVRPF",
        "colab_type": "code",
        "colab": {}
      },
      "cell_type": "code",
      "source": [
        "import tensorflow as tf\n",
        "import numpy as np\n",
        "import pickle\n",
        "import matplotlib.pyplot as plt\n",
        "%matplotlib inline "
      ],
      "execution_count": 0,
      "outputs": []
    },
    {
      "metadata": {
        "id": "Tkz9Pl7SzPNS",
        "colab_type": "code",
        "colab": {}
      },
      "cell_type": "code",
      "source": [
        "\n",
        "with open('102623729836648532953-raw-reply-pairs.pkl', 'rb') as f:\n",
        "    data_102 = pickle.load(f)\n",
        "with open('108371130441830548619-raw-reply-pairs.pkl', 'rb') as f:\n",
        "    data_108 = pickle.load(f)\n"
      ],
      "execution_count": 0,
      "outputs": []
    },
    {
      "metadata": {
        "id": "nB46jItB86Z1",
        "colab_type": "code",
        "colab": {
          "base_uri": "https://localhost:8080/",
          "height": 54
        },
        "outputId": "9fb0b68d-23a7-4bfc-bfde-db9dc786fbb4"
      },
      "cell_type": "code",
      "source": [
        "print('Number of records in 102:', len(data_102))\n",
        "print('Number of records in 108:', len(data_108))\n",
        "email_data=data_102"
      ],
      "execution_count": 12,
      "outputs": [
        {
          "output_type": "stream",
          "text": [
            "Number of records in 102: 856\n",
            "Number of records in 108: 1969\n"
          ],
          "name": "stdout"
        }
      ]
    },
    {
      "metadata": {
        "id": "N6m1PM9-_fKZ",
        "colab_type": "code",
        "colab": {}
      },
      "cell_type": "code",
      "source": [
        "i=np.random.random_integers(len(email_data)-1)\n",
        "print(i)\n",
        "print(email_data[i][0]['message_core_body_sentences'])\n",
        "print(email_data[i][1]['message_core_body_sentences'])"
      ],
      "execution_count": 0,
      "outputs": []
    },
    {
      "metadata": {
        "id": "nycYEr58GZEE",
        "colab_type": "code",
        "colab": {
          "base_uri": "https://localhost:8080/",
          "height": 109
        },
        "outputId": "ba585635-c32e-4419-89be-01e11d58354a"
      },
      "cell_type": "code",
      "source": [
        "import requests\n",
        "import json\n",
        "import numpy as np\n",
        "\n",
        "\n",
        "def _chunks(collection, chunk_size):\n",
        "    chunk_size = max(1, chunk_size)\n",
        "    return (collection[i:i + chunk_size] for i in range(0, len(collection), chunk_size))\n",
        "\n",
        "\n",
        "class USEClient(object):\n",
        "    def __init__(self, base_url=\"https://sentence-encoder.pointapi.com\"):\n",
        "        \"\"\" Create a new Universal Sentence Encoder Client\n",
        "        :param base_url: the base URL of the server\n",
        "        \"\"\"\n",
        "        self.endpoint = base_url + '/v1/models/USE:predict'\n",
        "\n",
        "    def encode_text(self, text):\n",
        "        \"\"\" Encode a piece of text.\n",
        "        :param text: some text (str)\n",
        "        :return: a np.array of shape (512,)\n",
        "        \"\"\"\n",
        "        body = {\"instances\": [text]}\n",
        "        r = requests.post(self.endpoint, data=json.dumps(body))\n",
        "        return np.array(r.json()['predictions'][0])\n",
        "\n",
        "    def encode_texts(self, texts, batch_size=1000):\n",
        "        \"\"\" Encode a piece of text.\n",
        "        Note: Requests will be sent in batches of maximum 1000 (`batch_size`)\n",
        "        sentences per batch to avoid `413 Request Entity Too Large` error.\n",
        "        :param texts: some texts ([str, ...])\n",
        "        :param batch_size: how many sentences to put in a single request\n",
        "        :return: a np.array of shape (?, 512)\n",
        "        \"\"\"\n",
        "        results = []\n",
        "        for batch in _chunks(texts, batch_size):\n",
        "            body = {\"instances\": batch}\n",
        "            r = requests.post(self.endpoint, data=json.dumps(body))\n",
        "            results.append(np.array(r.json()['predictions']))\n",
        "\n",
        "        return np.concatenate(results)\n",
        "\n",
        "    def sentence_similarity(self, s0, s1):\n",
        "        \"\"\" Compute sentence similarity\n",
        "        :param s0: a sentence (str)\n",
        "        :param s1: a sentence (str)\n",
        "        :return: a float in range [0,1]\n",
        "        \"\"\"\n",
        "        v0 = np.array(self.encode_text(s0))\n",
        "        v1 = np.array(self.encode_text(s1))\n",
        "\n",
        "        return np.dot(v0, v1) / (np.sqrt(v0.dot(v0)) * np.sqrt(v1.dot(v1)))\n",
        "client = USEClient(base_url=\"https://sentence-encoder.pointapi.com\")\n",
        "sentences = [\"Hello!\", \"How do you do?\"]\n",
        "encodings=client.encode_texts(sentences)\n",
        "print(encodings)\n",
        "print(encodings.shape)"
      ],
      "execution_count": 15,
      "outputs": [
        {
          "output_type": "stream",
          "text": [
            "[[-2.55452e-02  6.90541e-03 -6.11843e-03 ...  3.18038e-02 -9.22750e-02\n",
            "  -9.98534e-03]\n",
            " [-5.23664e-02  1.39648e-05 -6.74801e-02 ... -3.58355e-02 -9.94603e-02\n",
            "  -3.44208e-02]]\n",
            "(2, 512)\n"
          ],
          "name": "stdout"
        }
      ]
    },
    {
      "metadata": {
        "id": "3oPVYcHoM_P5",
        "colab_type": "code",
        "colab": {}
      },
      "cell_type": "code",
      "source": [
        "email_response_embeddings=[[] for i in range(len(email_data))]\n",
        "for i in range(len(email_data)):\n",
        "  if (len(email_data[i][1]['message_core_body_sentences'])!=0):\n",
        "    email_response_embeddings[i]=client.encode_texts(email_data[i][1]['message_core_body_sentences'])\n",
        "  "
      ],
      "execution_count": 0,
      "outputs": []
    },
    {
      "metadata": {
        "id": "n7Ht_-pYPwvx",
        "colab_type": "code",
        "colab": {}
      },
      "cell_type": "code",
      "source": [
        "response_phrase_embedding=[]\n",
        "response_phrase_indexing=[]\n",
        "for i in range(len(email_response_embeddings)):\n",
        "  if (len(email_response_embeddings[i])!=0):\n",
        "    for j in range(len(email_response_embeddings[i])):\n",
        "      response_phrase_embedding.append(email_response_embeddings[i][j])\n",
        "      response_phrase_indexing.append([i,j])\n",
        "      "
      ],
      "execution_count": 0,
      "outputs": []
    },
    {
      "metadata": {
        "id": "i2H0mRgS0QzJ",
        "colab_type": "code",
        "colab": {}
      },
      "cell_type": "code",
      "source": [
        "print(len(response_phrase_embedding))\n",
        "print(len(response_phrase_indexing))\n",
        "response_phrase_indexing[23]"
      ],
      "execution_count": 0,
      "outputs": []
    },
    {
      "metadata": {
        "id": "0rz7Zcs5dcVT",
        "colab_type": "code",
        "colab": {}
      },
      "cell_type": "code",
      "source": [
        "response_phrase_distance_matrix=np.zeros((len(response_phrase_embedding),len(response_phrase_embedding)))\n",
        "for i in range(len(response_phrase_embedding)):\n",
        "  for j in range(i+1,len(response_phrase_embedding)):\n",
        "    response_phrase_distance_matrix[i][j]=np.linalg.norm(response_phrase_embedding[i]-response_phrase_embedding[j])\n",
        "    "
      ],
      "execution_count": 0,
      "outputs": []
    },
    {
      "metadata": {
        "id": "ducpApDKaY46",
        "colab_type": "code",
        "colab": {}
      },
      "cell_type": "code",
      "source": [
        "response_phrase_distance_vector=np.reshape(response_phrase_distance_matrix,len(response_phrase_embedding)*len(response_phrase_embedding))"
      ],
      "execution_count": 0,
      "outputs": []
    },
    {
      "metadata": {
        "id": "Zzu0B0r5hhgR",
        "colab_type": "code",
        "colab": {}
      },
      "cell_type": "code",
      "source": [
        "dot_threshold=0.1\n",
        "number_of_similar_phrases=np.sum(response_phrase_distance_vector<distance_threshold)-(response_phrase_distance_vector.shape[0]-len(response_phrase_embedding))/2+len(response_phrase_embedding)\n",
        "print('number_of_similar_phrases for threshold ', distance_threshold,':', number_of_similar_phrases)\n",
        "distance_threshold=0.2\n",
        "number_of_similar_phrases=np.sum(response_phrase_distance_vector<distance_threshold)-(response_phrase_distance_vector.shape[0]-len(response_phrase_embedding))/2+len(response_phrase_embedding)\n",
        "print('number_of_similar_phrases for threshold ', distance_threshold,':', number_of_similar_phrases)\n",
        "distance_threshold=0.3\n",
        "number_of_similar_phrases=np.sum(response_phrase_distance_vector<distance_threshold)-(response_phrase_distance_vector.shape[0]-len(response_phrase_embedding))/2+len(response_phrase_embedding)\n",
        "print('number_of_similar_phrases for threshold ', distance_threshold,':', number_of_similar_phrases)\n"
      ],
      "execution_count": 0,
      "outputs": []
    },
    {
      "metadata": {
        "id": "o2UOuK-8gu0g",
        "colab_type": "code",
        "colab": {}
      },
      "cell_type": "code",
      "source": [
        "response_phrase_dotproduct_matrix=np.zeros((len(response_phrase_embedding),len(response_phrase_embedding)))\n",
        "for i in range(len(response_phrase_embedding)):\n",
        "  for j in range(i+1,len(response_phrase_embedding)):\n",
        "    response_phrase_dotproduct_matrix[i][j]=np.dot(response_phrase_embedding[i],response_phrase_embedding[j])\n",
        "    \n",
        "response_phrase_dotproduct_vector=np.reshape(response_phrase_dotproduct_matrix,len(response_phrase_embedding)*len(response_phrase_embedding))    "
      ],
      "execution_count": 0,
      "outputs": []
    },
    {
      "metadata": {
        "id": "vW_Go0c93nxj",
        "colab_type": "code",
        "colab": {
          "base_uri": "https://localhost:8080/",
          "height": 72
        },
        "outputId": "7e582d42-2597-46df-9bad-07f0a472c742"
      },
      "cell_type": "code",
      "source": [
        "dot_threshold=0.7\n",
        "number_of_similar_phrases=np.sum(response_phrase_dotproduct_vector>dot_threshold)\n",
        "print('number_of_similar_phrases for threshold ', dot_threshold,':', number_of_similar_phrases)\n",
        "dot_threshold=0.8\n",
        "number_of_similar_phrases=np.sum(response_phrase_dotproduct_vector>dot_threshold)\n",
        "print('number_of_similar_phrases for threshold ', dot_threshold,':', number_of_similar_phrases)\n",
        "dot_threshold=0.9\n",
        "number_of_similar_phrases=np.sum(response_phrase_dotproduct_vector>dot_threshold)\n",
        "print('number_of_similar_phrases for threshold ', dot_threshold,':', number_of_similar_phrases)\n"
      ],
      "execution_count": 44,
      "outputs": [
        {
          "output_type": "stream",
          "text": [
            "number_of_similar_phrases for threshold  0.7 : 63227\n",
            "number_of_similar_phrases for threshold  0.8 : 26597\n",
            "number_of_similar_phrases for threshold  0.9 : 14876\n"
          ],
          "name": "stdout"
        }
      ]
    },
    {
      "metadata": {
        "id": "bWj4e-WFjhMh",
        "colab_type": "code",
        "colab": {
          "base_uri": "https://localhost:8080/",
          "height": 265
        },
        "outputId": "dcdffc72-c96d-4008-ac26-e93256949d79"
      },
      "cell_type": "code",
      "source": [
        "dot_threshold=0.8\n",
        "response_phrase_cluster=[]\n",
        "response_phrase_dotproduct_score=np.sum((response_phrase_dotproduct_matrix>dot_threshold),axis=0)\n",
        "response_phrase_dotproduct_score.shape\n",
        "plt.plot(response_phrase_dotproduct_score) \n",
        "plt.show()\n"
      ],
      "execution_count": 48,
      "outputs": [
        {
          "output_type": "display_data",
          "data": {
            "image/png": "[encoded data removed]",
            "text/plain": [
              "<matplotlib.figure.Figure at 0x7f1aa899af60>"
            ]
          },
          "metadata": {
            "tags": []
          }
        }
      ]
    },
    {
      "metadata": {
        "id": "nYjW8-AVj1Da",
        "colab_type": "code",
        "colab": {
          "base_uri": "https://localhost:8080/",
          "height": 35
        },
        "outputId": "8baaab1b-ca98-4b74-b391-cd88d92064b4"
      },
      "cell_type": "code",
      "source": [
        "min(response_phrase_distance_vector)"
      ],
      "execution_count": 102,
      "outputs": [
        {
          "output_type": "execute_result",
          "data": {
            "text/plain": [
              "0.0"
            ]
          },
          "metadata": {
            "tags": []
          },
          "execution_count": 102
        }
      ]
    },
    {
      "metadata": {
        "id": "YVieV8XuTwWq",
        "colab_type": "code",
        "colab": {
          "base_uri": "https://localhost:8080/",
          "height": 90
        },
        "outputId": "454c7941-cdff-49c7-a297-a665671f312b"
      },
      "cell_type": "code",
      "source": [
        "sentences = [\"How are you doing?\", \"How do you do?\"]\n",
        "encodings=client.encode_texts(sentences)\n",
        "print(np.linalg.norm(encodings[0]-encodings[1]))\n",
        "print(np.dot(encodings[0],encodings[1]))\n",
        "print(encodings.shape)\n",
        "print(encodings[0][0])"
      ],
      "execution_count": 103,
      "outputs": [
        {
          "output_type": "stream",
          "text": [
            "1.1971834460101576\n",
            "0.2833756958483484\n",
            "(2, 512)\n",
            "-0.0467622\n"
          ],
          "name": "stdout"
        }
      ]
    }
  ]
}