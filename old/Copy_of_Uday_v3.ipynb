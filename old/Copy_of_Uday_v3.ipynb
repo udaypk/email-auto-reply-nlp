{
  "nbformat": 4,
  "nbformat_minor": 0,
  "metadata": {
    "colab": {
      "name": "Copy of Uday.ipynb",
      "version": "0.3.2",
      "provenance": [],
      "toc_visible": true
    },
    "kernelspec": {
      "name": "python3",
      "display_name": "Python 3"
    }
  },
  "cells": [
    {
      "metadata": {
        "id": "zUt_WpEm6v8j",
        "colab_type": "code",
        "colab": {}
      },
      "cell_type": "code",
      "source": [
        "!pip install PyDrive"
      ],
      "execution_count": 0,
      "outputs": []
    },
    {
      "metadata": {
        "id": "_bQcCo0Ehp7p",
        "colab_type": "code",
        "colab": {
          "base_uri": "https://localhost:8080/",
          "height": 35
        },
        "outputId": "daef288d-9c40-43b0-f044-39cc59f42355"
      },
      "cell_type": "code",
      "source": [
        "!ls"
      ],
      "execution_count": 5,
      "outputs": [
        {
          "output_type": "stream",
          "text": [
            "sample_data\n"
          ],
          "name": "stdout"
        }
      ]
    },
    {
      "metadata": {
        "id": "OM5sf-PM6cWW",
        "colab_type": "code",
        "colab": {}
      },
      "cell_type": "code",
      "source": [
        "\n",
        "import os\n",
        "from pydrive.auth import GoogleAuth\n",
        "from pydrive.drive import GoogleDrive\n",
        "from google.colab import auth\n",
        "from oauth2client.client import GoogleCredentials"
      ],
      "execution_count": 0,
      "outputs": []
    },
    {
      "metadata": {
        "id": "QeFX0mTu66yp",
        "colab_type": "code",
        "colab": {}
      },
      "cell_type": "code",
      "source": [
        "auth.authenticate_user()\n",
        "gauth = GoogleAuth()\n",
        "gauth.credentials = GoogleCredentials.get_application_default()\n",
        "drive = GoogleDrive(gauth)"
      ],
      "execution_count": 0,
      "outputs": []
    },
    {
      "metadata": {
        "id": "ZLawO-907Ouz",
        "colab_type": "code",
        "colab": {}
      },
      "cell_type": "code",
      "source": [
        "download = drive.CreateFile({'id': '1kfUcDYHPdGkOyfhsYO2xPYQ9THStwdZu'})\n",
        "download.GetContentFile('102623729836648532953-raw-reply-pairs.pkl')"
      ],
      "execution_count": 0,
      "outputs": []
    },
    {
      "metadata": {
        "id": "XSoUCUN48Wzg",
        "colab_type": "code",
        "colab": {}
      },
      "cell_type": "code",
      "source": [
        "download = drive.CreateFile({'id': '1V-ogRtNQ9xr5JglcPw-zAjp-O7mjzEva'})\n",
        "download.GetContentFile('108371130441830548619-raw-reply-pairs.pkl')"
      ],
      "execution_count": 0,
      "outputs": []
    },
    {
      "metadata": {
        "id": "GJEQPvuEVRPF",
        "colab_type": "code",
        "colab": {}
      },
      "cell_type": "code",
      "source": [
        "import tensorflow as tf\n",
        "import numpy as np\n",
        "import pickle\n",
        "import matplotlib.pyplot as plt\n",
        "%matplotlib inline "
      ],
      "execution_count": 0,
      "outputs": []
    },
    {
      "metadata": {
        "id": "Tkz9Pl7SzPNS",
        "colab_type": "code",
        "colab": {}
      },
      "cell_type": "code",
      "source": [
        "\n",
        "with open('102623729836648532953-raw-reply-pairs.pkl', 'rb') as f:\n",
        "    data_102 = pickle.load(f)\n",
        "with open('108371130441830548619-raw-reply-pairs.pkl', 'rb') as f:\n",
        "    data_108 = pickle.load(f)\n"
      ],
      "execution_count": 0,
      "outputs": []
    },
    {
      "metadata": {
        "id": "nB46jItB86Z1",
        "colab_type": "code",
        "colab": {
          "base_uri": "https://localhost:8080/",
          "height": 54
        },
        "outputId": "9fb0b68d-23a7-4bfc-bfde-db9dc786fbb4"
      },
      "cell_type": "code",
      "source": [
        "print('Number of records in 102:', len(data_102))\n",
        "print('Number of records in 108:', len(data_108))\n",
        "email_data=data_102"
      ],
      "execution_count": 12,
      "outputs": [
        {
          "output_type": "stream",
          "text": [
            "Number of records in 102: 856\n",
            "Number of records in 108: 1969\n"
          ],
          "name": "stdout"
        }
      ]
    },
    {
      "metadata": {
        "id": "N6m1PM9-_fKZ",
        "colab_type": "code",
        "colab": {}
      },
      "cell_type": "code",
      "source": [
        "i=np.random.random_integers(len(email_data)-1)\n",
        "print(i)\n",
        "print(email_data[i][0]['message_core_body_sentences'])\n",
        "print(email_data[i][1]['message_core_body_sentences'])"
      ],
      "execution_count": 0,
      "outputs": []
    },
    {
      "metadata": {
        "id": "nycYEr58GZEE",
        "colab_type": "code",
        "colab": {}
      },
      "cell_type": "code",
      "source": [
        "import requests\n",
        "import json\n",
        "import numpy as np\n",
        "\n",
        "\n",
        "def _chunks(collection, chunk_size):\n",
        "    chunk_size = max(1, chunk_size)\n",
        "    return (collection[i:i + chunk_size] for i in range(0, len(collection), chunk_size))\n",
        "\n",
        "\n",
        "class USEClient(object):\n",
        "    def __init__(self, base_url=\"https://sentence-encoder.pointapi.com\"):\n",
        "        \"\"\" Create a new Universal Sentence Encoder Client\n",
        "        :param base_url: the base URL of the server\n",
        "        \"\"\"\n",
        "        self.endpoint = base_url + '/v1/models/USE:predict'\n",
        "\n",
        "    def encode_text(self, text):\n",
        "        \"\"\" Encode a piece of text.\n",
        "        :param text: some text (str)\n",
        "        :return: a np.array of shape (512,)\n",
        "        \"\"\"\n",
        "        body = {\"instances\": [text]}\n",
        "        r = requests.post(self.endpoint, data=json.dumps(body))\n",
        "        return np.array(r.json()['predictions'][0])\n",
        "\n",
        "    def encode_texts(self, texts, batch_size=1000):\n",
        "        \"\"\" Encode a piece of text.\n",
        "        Note: Requests will be sent in batches of maximum 1000 (`batch_size`)\n",
        "        sentences per batch to avoid `413 Request Entity Too Large` error.\n",
        "        :param texts: some texts ([str, ...])\n",
        "        :param batch_size: how many sentences to put in a single request\n",
        "        :return: a np.array of shape (?, 512)\n",
        "        \"\"\"\n",
        "        results = []\n",
        "        for batch in _chunks(texts, batch_size):\n",
        "            body = {\"instances\": batch}\n",
        "            r = requests.post(self.endpoint, data=json.dumps(body))\n",
        "            results.append(np.array(r.json()['predictions']))\n",
        "\n",
        "        return np.concatenate(results)\n",
        "\n",
        "    def sentence_similarity(self, s0, s1):\n",
        "        \"\"\" Compute sentence similarity\n",
        "        :param s0: a sentence (str)\n",
        "        :param s1: a sentence (str)\n",
        "        :return: a float in range [0,1]\n",
        "        \"\"\"\n",
        "        v0 = np.array(self.encode_text(s0))\n",
        "        v1 = np.array(self.encode_text(s1))\n",
        "\n",
        "        return np.dot(v0, v1) / (np.sqrt(v0.dot(v0)) * np.sqrt(v1.dot(v1)))\n",
        "client = USEClient(base_url=\"https://sentence-encoder.pointapi.com\")\n",
        "sentences = [\"Hello!\", \"How do you do?\"]\n",
        "encodings=client.encode_texts(sentences)\n"
      ],
      "execution_count": 0,
      "outputs": []
    },
    {
      "metadata": {
        "id": "3oPVYcHoM_P5",
        "colab_type": "code",
        "colab": {}
      },
      "cell_type": "code",
      "source": [
        "email_response_embeddings=[[] for i in range(len(email_data))]\n",
        "for i in range(len(email_data)):\n",
        "  if (len(email_data[i][1]['message_core_body_sentences'])!=0):\n",
        "    string_list=[each_sent.replace(\"#*/<>?\\|\", \" \") for each_sent in email_data[i][1]['message_core_body_sentences']]\n",
        "    pruned_str_list=[]\n",
        "    for each_sent in string_list:\n",
        "      if 'thank' in each_sent.lower():\n",
        "        each_sent=''\n",
        "      pruned_str_list.append(each_sent)                  \n",
        "    email_response_embeddings[i]=client.encode_texts(pruned_str_list)\n",
        "  "
      ],
      "execution_count": 0,
      "outputs": []
    },
    {
      "metadata": {
        "id": "n7Ht_-pYPwvx",
        "colab_type": "code",
        "colab": {}
      },
      "cell_type": "code",
      "source": [
        "response_phrase_embedding=[]\n",
        "response_phrase_indexing=[]\n",
        "for i in range(len(email_response_embeddings)):\n",
        "  if (len(email_response_embeddings[i])!=0):\n",
        "    for j in range(len(email_response_embeddings[i])):\n",
        "      response_phrase_embedding.append(email_response_embeddings[i][j])\n",
        "      response_phrase_indexing.append([i,j])\n",
        "      "
      ],
      "execution_count": 0,
      "outputs": []
    },
    {
      "metadata": {
        "id": "i2H0mRgS0QzJ",
        "colab_type": "code",
        "colab": {}
      },
      "cell_type": "code",
      "source": [
        "print(len(response_phrase_embedding))\n",
        "print(len(response_phrase_indexing))\n",
        "response_phrase_indexing[23]"
      ],
      "execution_count": 0,
      "outputs": []
    },
    {
      "metadata": {
        "id": "0rz7Zcs5dcVT",
        "colab_type": "code",
        "colab": {}
      },
      "cell_type": "code",
      "source": [
        "response_phrase_distance_matrix=np.zeros((len(response_phrase_embedding),len(response_phrase_embedding)))\n",
        "for i in range(len(response_phrase_embedding)):\n",
        "  for j in range(i+1,len(response_phrase_embedding)):\n",
        "    response_phrase_distance_matrix[i][j]=np.linalg.norm(response_phrase_embedding[i]-response_phrase_embedding[j])\n",
        "    "
      ],
      "execution_count": 0,
      "outputs": []
    },
    {
      "metadata": {
        "id": "ducpApDKaY46",
        "colab_type": "code",
        "colab": {}
      },
      "cell_type": "code",
      "source": [
        "response_phrase_distance_vector=np.reshape(response_phrase_distance_matrix,len(response_phrase_embedding)*len(response_phrase_embedding))"
      ],
      "execution_count": 0,
      "outputs": []
    },
    {
      "metadata": {
        "id": "Zzu0B0r5hhgR",
        "colab_type": "code",
        "colab": {}
      },
      "cell_type": "code",
      "source": [
        "dot_threshold=0.1\n",
        "number_of_similar_phrases=np.sum(response_phrase_distance_vector<distance_threshold)-(response_phrase_distance_vector.shape[0]-len(response_phrase_embedding))/2+len(response_phrase_embedding)\n",
        "print('number_of_similar_phrases for threshold ', distance_threshold,':', number_of_similar_phrases)\n",
        "distance_threshold=0.2\n",
        "number_of_similar_phrases=np.sum(response_phrase_distance_vector<distance_threshold)-(response_phrase_distance_vector.shape[0]-len(response_phrase_embedding))/2+len(response_phrase_embedding)\n",
        "print('number_of_similar_phrases for threshold ', distance_threshold,':', number_of_similar_phrases)\n",
        "distance_threshold=0.3\n",
        "number_of_similar_phrases=np.sum(response_phrase_distance_vector<distance_threshold)-(response_phrase_distance_vector.shape[0]-len(response_phrase_embedding))/2+len(response_phrase_embedding)\n",
        "print('number_of_similar_phrases for threshold ', distance_threshold,':', number_of_similar_phrases)\n"
      ],
      "execution_count": 0,
      "outputs": []
    },
    {
      "metadata": {
        "id": "o2UOuK-8gu0g",
        "colab_type": "code",
        "colab": {}
      },
      "cell_type": "code",
      "source": [
        "response_phrase_dotproduct_matrix=np.zeros((len(response_phrase_embedding),len(response_phrase_embedding)))\n",
        "for i in range(len(response_phrase_embedding)):\n",
        "  for j in range(i+1,len(response_phrase_embedding)):\n",
        "    response_phrase_dotproduct_matrix[i][j]=np.dot(response_phrase_embedding[i],response_phrase_embedding[j])\n",
        "    \n",
        "response_phrase_dotproduct_vector=np.reshape(response_phrase_dotproduct_matrix,len(response_phrase_embedding)*len(response_phrase_embedding))    "
      ],
      "execution_count": 0,
      "outputs": []
    },
    {
      "metadata": {
        "id": "vW_Go0c93nxj",
        "colab_type": "code",
        "colab": {
          "base_uri": "https://localhost:8080/",
          "height": 72
        },
        "outputId": "7e582d42-2597-46df-9bad-07f0a472c742"
      },
      "cell_type": "code",
      "source": [
        "dot_threshold=0.7\n",
        "number_of_similar_phrases=np.sum(response_phrase_dotproduct_vector>dot_threshold)\n",
        "print('number_of_similar_phrases for threshold ', dot_threshold,':', number_of_similar_phrases)\n",
        "dot_threshold=0.8\n",
        "number_of_similar_phrases=np.sum(response_phrase_dotproduct_vector>dot_threshold)\n",
        "print('number_of_similar_phrases for threshold ', dot_threshold,':', number_of_similar_phrases)\n",
        "dot_threshold=0.9\n",
        "number_of_similar_phrases=np.sum(response_phrase_dotproduct_vector>dot_threshold)\n",
        "print('number_of_similar_phrases for threshold ', dot_threshold,':', number_of_similar_phrases)\n"
      ],
      "execution_count": 44,
      "outputs": [
        {
          "output_type": "stream",
          "text": [
            "number_of_similar_phrases for threshold  0.7 : 63227\n",
            "number_of_similar_phrases for threshold  0.8 : 26597\n",
            "number_of_similar_phrases for threshold  0.9 : 14876\n"
          ],
          "name": "stdout"
        }
      ]
    },
    {
      "metadata": {
        "id": "bWj4e-WFjhMh",
        "colab_type": "code",
        "colab": {
          "base_uri": "https://localhost:8080/",
          "height": 286
        },
        "outputId": "5306eae4-3630-437c-e97f-28d30d016ff3"
      },
      "cell_type": "code",
      "source": [
        "dot_threshold=0.7\n",
        "response_phrase_cluster=[]\n",
        "response_phrase_dotproduct_score=np.sum((response_phrase_dotproduct_matrix>dot_threshold),axis=1,keepdims=True)\n",
        "print(response_phrase_dotproduct_score.shape)\n",
        "plt.plot(response_phrase_dotproduct_score) \n",
        "plt.show()\n"
      ],
      "execution_count": 80,
      "outputs": [
        {
          "output_type": "stream",
          "text": [
            "(8289, 1)\n"
          ],
          "name": "stdout"
        },
        {
          "output_type": "display_data",
          "data": {
            "image/png": "[encoded data removed]",
            "text/plain": [
              "<matplotlib.figure.Figure at 0x7f1a948676d8>"
            ]
          },
          "metadata": {
            "tags": []
          }
        }
      ]
    },
    {
      "metadata": {
        "id": "nYjW8-AVj1Da",
        "colab_type": "code",
        "colab": {
          "base_uri": "https://localhost:8080/",
          "height": 5069
        },
        "outputId": "7a7d3eb6-fa82-456e-8a8a-5a190075beae"
      },
      "cell_type": "code",
      "source": [
        "thres_freq=50\n",
        "top_response_phrases_index=np.where(response_phrase_dotproduct_score>thres_freq)[0]\n",
        "#print(top_response_phrases_index)\n",
        "for i in range(len(top_response_phrases_index)):\n",
        "  k,l=response_phrase_indexing[top_response_phrases_index[i]]\n",
        "  print(email_data[k][1]['message_core_body_sentences'][l])\n",
        "\n"
      ],
      "execution_count": 81,
      "outputs": [
        {
          "output_type": "stream",
          "text": [
            "Thanks a lot for the reminder.\n",
            "Thank you very much.\n",
            "Thanks a lot for the reminder.\n",
            "Thank You!\n",
            "Thanks,\n",
            "> > Thank you for your time.\n",
            "I am looking forward to meeting you soon!\n",
            "> > Sincerely, > PERSON_NAME\n",
            "> > Sincerely, > PERSON_NAME > >\n",
            "> > Sincerely, > PERSON_NAME > > >\n",
            "PERSON_NAME, Thanks for the information.\n",
            "Thanks again for everything, Mr. PERSON_NAME.\n",
            "> > Sincerely, > PERSON_NAME > >\n",
            "> <Resume_Draft.pdf>\n",
            "Thanks.\n",
            "-PERSON_NAME\n",
            "Hahah thank you.\n",
            "> > This email was sent from a notification-only address that cannot accept incoming email.\n",
            "> > Good work PERSON_NAME!\n",
            "Thank you.\n",
            "Thanks again.\n",
            "thanks for the help!\n",
            "> <LambertChu_Resume.pdf>\n",
            "> > Thank you very much for your time.\n",
            "> > Thank you very much for your time.\n",
            "> > Sincerely, > PERSON_NAME > >\n",
            "PERSON_NAME\n",
            "PERSON_NAME.\n",
            "Thanks again!\n",
            "Thanks for the help.\n",
            "> > Thanks again!\n",
            "We are looking forward to meeting you.\n",
            "Clyvan.\n",
            "> >Sincerely, >PERSON_NAME > >\n",
            "Thanks > so much .\n",
            "Thank you,\n",
            "> >\n",
            "we look forward to meeting with you.\n",
            "> > 1.\n",
            "To qualify for the 20,000 TrueBlue points, you must make purchases with your JetBlue Card from American Express that total $1,000 or more within your first three months of Card Membership starting from the date your account is approved.\n",
            "Qualifying purchases can be made by the Basic Card Member and any Additional Card Members on a single Card account.\n",
            "> > To receive the 20,000 TrueBlue points, your Card account must be active, in good standing, and not in default at the time of fulfillment.\n",
            "For questions regarding your Card account, please call the number on the back of your Card.\n",
            "> > 2.\n",
            "> > 3.\n",
            "> > 4.\n",
            "> > 1.\n",
            "> 2.\n",
            "> 3.\n",
            "> 4.\n",
            "> 5.\n",
            "> 6.\n",
            "> 8.\n",
            "Our users won't want any replies to the emails that they sent themselves!\n",
            "*Important Notes* DO NOT send any emails to anyone other than your own email address.\n",
            "Thanks for your help!\n",
            "PERSON_NAME '11 ________________________________ IMPORTANT WARNING: This email (and any attachments) is only intended for the use of the person or entity to which it is addressed, and may contain information that is privileged and confidential.\n",
            "If you are not the intended recipient, please immediately notify us by return email, and delete this message from your computer.\n",
            "Thanks!\n",
            "Thank you for the opportunity!\n",
            "I am looking forward to talking to you.\n",
            "PERSON_NAME '11 ________________________________ IMPORTANT WARNING: This email (and any attachments) is only intended for the use of the person or entity to which it is addressed, and may contain information that is privileged and confidential.\n",
            "If you are not the intended recipient, please immediately notify us by return email, and delete this message from your computer.\n",
            "________________________________ IMPORTANT WARNING: This email (and any attachments) is only intended for the use of the person or entity to which it is addressed, and may contain information that is privileged and confidential.\n",
            "If you are not the intended recipient, please immediately notify us by return email, and delete this message from your computer.\n",
            "Thanks!\n",
            "Thanks!\n",
            "Thank you for the opportunity!\n",
            "I am looking forward to talking to you.\n",
            "PERSON_NAME '11 ________________________________ IMPORTANT WARNING: This email (and any attachments) is only intended for the use of the person or entity to which it is addressed, and may contain information that is privileged and confidential.\n",
            "If you are not the intended recipient, please immediately notify us by return email, and delete this message from your computer.\n",
            "________________________________ IMPORTANT WARNING: This email (and any attachments) is only intended for the use of the person or entity to which it is addressed, and may contain information that is privileged and confidential.\n",
            "If you are not the intended recipient, please immediately notify us by return email, and delete this message from your computer.\n",
            "________________________________ IMPORTANT WARNING: This email (and any attachments) is only intended for the use of the person or entity to which it is addressed, and may contain information that is privileged and confidential.\n",
            "If you are not the intended recipient, please immediately notify us by return email, and delete this message from your computer.\n",
            "Thanks!\n",
            "Thanks!\n",
            "Thank you for the opportunity!\n",
            "I am looking forward to talking to you.\n",
            "PERSON_NAME '11 ________________________________ IMPORTANT WARNING: This email (and any attachments) is only intended for the use of the person or entity to which it is addressed, and may contain information that is privileged and confidential.\n",
            "If you are not the intended recipient, please immediately notify us by return email, and delete this message from your computer.\n",
            "________________________________ IMPORTANT WARNING: This email (and any attachments) is only intended for the use of the person or entity to which it is addressed, and may contain information that is privileged and confidential.\n",
            "If you are not the intended recipient, please immediately notify us by return email, and delete this message from your computer.\n",
            "________________________________ IMPORTANT WARNING: This email (and any attachments) is only intended for the use of the person or entity to which it is addressed, and may contain information that is privileged and confidential.\n",
            "If you are not the intended recipient, please immediately notify us by return email, and delete this message from your computer.\n",
            "If you are not the intended recipient, please immediately notify us by return email, and delete this message from your computer.\n",
            "Thanks!\n",
            "Thanks!\n",
            "Thank you for the opportunity!\n",
            "I am looking forward to talking to you.\n",
            "If you are not the intended recipient, please immediately notify us by return email, and delete this message from your computer.\n",
            "If you are not the intended recipient, please immediately notify us by return email, and delete this message from your computer.\n",
            "If you are not the intended recipient, please immediately notify us by return email, and delete this message from your computer.\n",
            "If you are not the intended recipient, please immediately notify us by return email, and delete this message from your computer.\n",
            "I look forward to hearing from you.\n",
            "Thank you for the opportunity!\n",
            "I look forward to hearing from you.\n",
            "I'm looking forward to meeting you on Sunday!\n",
            "I look forward to hearing from you.\n",
            "View full itinerary .\n",
            "PERSON_NAME.\n",
            "PERSON_NAME.\n",
            "PERSON_NAME.\n",
            "Thanks again for this great opportunity!\n",
            "Sincerely, Lambert On Fri, Nov 23, 2012 at 4:48 PM, PERSON_NAME <EMAIL_ADDRESS<mailto:EMAIL_ADDRESS>> wrote: PERSON_NAME and I wanted to reach out to get an update from your end.\n",
            "​Great!\n",
            "Thanks.\n",
            "Thank you very much!\n",
            "Thanks.\n",
            "Thank you very much!\n",
            "thank you so much!\n",
            "> > Thanks.\n",
            "> > Thank you very much!\n",
            "> > - Slambert > > PS.\n",
            "thanks for the replies.\n",
            "Thanks and sorry for the inconvenience.\n",
            "2012;13(4):1377-82.\n",
            "> > Thanks!\n",
            "> PERSON_NAME >\n",
            "Thanks\n",
            "PERSON_NAME\n",
            "PERSON_NAME\n",
            "thanks!\n",
            ">>>> Thanks a lot for the help.\n",
            "Thanks!\n",
            "> <LambertChuResume.pdf>\n",
            "//www.youtube.com/watch?v=fPOVd1RIGDM\n",
            "PERSON_NAME\n",
            "Thanks for your time.\n",
            "I'm UTC+01.\n",
            "I'm UTC+01.\n",
            "> > Sure.\n",
            "I'm UTC+01.\n",
            "> > > > Sure.\n",
            "Thank you for your time!\n",
            "That's great, thanks.\n",
            "Thanks, - PERSON_NAME\n",
            "-PERSON_NAME\n",
            "Thanks.\n",
            "Thanks.\n",
            "PHONE_NUMBER.\n",
            "> >>\n",
            "> > PERSON_NAME\n",
            "> > Thank you for your time.\n",
            ">> >> Thank you for your time.\n",
            ">> >> - PERSON_NAME and PERSON_NAME > > >\n",
            "Thank you for your help and I look forward to working with you.\n",
            "> > Thank you!\n",
            "Cheers,\n",
            "idoc_id=7067688&last_name=Chu\n",
            "> <Resume_2013.docx>\n",
            "Thanks.\n",
            "> >>\n",
            "Go to https://chrome.google.com/webstore/detail/point-operations/gjbabjhpmnofokfephcmlfkcfehamlii.\n",
            "Thanks!\n",
            "PERSON_NAME\n",
            "Thanks.\n",
            "> >\n",
            "Thanks !\n",
            "> >>\n",
            "Thanks for the help!\n",
            "Thanks for your time!\n",
            "Thank you very much!\n",
            "Thanks for your time!\n",
            "**** > > ** ** > > Thank you very much!\n",
            "So...\n",
            "Thank you very much for your time!\n",
            "PERSON_NAME\n",
            "Thanks for your time.\n",
            "Thanks.\n",
            "If you have received this communication in error please notify us immediately by replying through this email.\n",
            "Thank you.\n",
            "Thanks for your time.\n",
            "Thanks.\n",
            "If you have received this communication in error please notify us immediately by replying through this email.\n",
            "Thank you.\n",
            "If you have received this communication in error please notify us immediately by replying through this email.\n",
            "Thank you.\n",
            "//www.lucare.com/immortal/audio.html\n",
            "Thank you very much for your time.\n",
            "Thanks, - PERSON_NAME\n",
            "- PERSON_NAME\n",
            "Thanks,\n",
            "Thank you.\n",
            "<http://apps.admissions.yale.edu/go/9db2q29f/e9d6b4b2>\n",
            "> > >\n",
            "thanks.\n",
            "Thanks, PERSON_NAME\n",
            "PERSON_NAME.\n",
            "> > >>\n",
            "> <Resume2015.docx> > <LambertChuResume.pdf>\n",
            "> <Resume2015.docx> > <LambertChuResume.pdf>\n",
            "Thanks!\n",
            "Thanks in advance for your time.\n",
            "PERSON_NAME\n",
            "This email may contain confidential information the use of which by an unintended recipient is unauthorized.\n",
            "Thank you so much for your fantastic recommendation and all your help along the way.\n",
            "//science.education.nih.gov/supplements/nih1/cancer/guide/understanding3.htm\n",
            "Thanks again and have a wonderful evening!\n",
            "Thanks!\n",
            "A few other notes: * We offer a corporate MasterCard and as long as you pay your balance in full each month, no interest or fees will be charged.\n",
            "* A personal guarantee is not required and the cardholder's personal credit is not impacted * The cards are embedded with the EMV chip.\n",
            "With company billing, the cardholder balances roll up to a master/control account and payment is only made at the master account level.\n",
            "With individual billing, payment is made to each card separately and the aggregate of all card limits cannot exceed the total company limit.\n",
            "You would make payments to your card on a monthly basis just as you normally would.\n",
            "A few other notes: • We offer a corporate MasterCard and as long as you pay your balance in full each month, no interest or fees will be charged.\n",
            "With company billing, the cardholder balances roll up to a master/control account and payment is only made at the master account level.\n",
            "Thanks!\n",
            "You would make payments to your card on a monthly basis just as you normally would.\n",
            "With company billing, the cardholder balances roll up to a master/control account and payment is only made at the master account level.\n",
            "Thanks!\n",
            "Thanks!\n",
            "Thanks!\n",
            "Thanks!\n",
            "Thanks!\n",
            "Thanks!\n",
            "//en.wikipedia.org/wiki/The_Good_Man_Jesus_and_the_Scoundrel_Christ\n",
            "Thanks!\n",
            "> > Thank you very much for your time.\n",
            "Thank you.\n",
            "Thank you very much for your time.\n",
            "Thanks, I appreciate your help greatly.\n",
            "Thank you.\n",
            "Thank you very much for your time.\n",
            "PERSON_NAME\n",
            "Thank you very much!\n",
            "Thank you very much!\n",
            "Thanks a lot.\n",
            "Thanks a lot.\n",
            "Thank you for your time!\n",
            "Thanks for the great advice!\n",
            "Thanks!\n",
            "Thanks!\n",
            "Thanks!\n",
            "Thanks, ?\n",
            "PERSON_NAME\n",
            "Thanks again.\n",
            "PERSON_NAME\n",
            "Thanks!\n",
            "PERSON_NAME\n",
            "Thanks.\n",
            "Thank you for your time.\n",
            "Thank you for your time.\n",
            "Thanks.\n",
            "//www.youtube.com/watch?v=V1yiqhoeV7Y\n",
            "PERSON_NAME\n",
            "<https://urldefense.proofpoint.com/v2/url?u=https-3A__pointmail.io_&d=DwMFaQ&c=ugh258mAKFuaILPYJuTk_X1t8ZIWxTwVzvLnZe22XM4&r=IFII1LocTqvvIZcOJAzEVaXT_gPjXnyyZeJ9nlvA2b0&m=OF-aVhJl69YjwJIyHghV5twbRihf52YlfZn8og7ubBM&s=ClkAICuA3-DJJq8SwK4JBodtXI3cTDskED66NAqIh_I&e=>\n",
            "thank you!\n",
            "it's PERSON_NAME.\n",
            ">> >>\n",
            "Thanks,\n",
            "Thank you.\n",
            "Thank you.\n",
            "Thank you.\n",
            "Thanks.\n",
            "Thank you.\n",
            "Thanks!\n",
            "> Thank you very much for your time.\n",
            "> > - PERSON_NAME\n",
            "thanks.\n",
            "Thanks.\n",
            "Thank you for your time.\n",
            "ewsdonline.org/exchweb/bin/redir.\n",
            "Thank you!\n",
            "Thanks again.\n",
            "> > - PERSON_NAME >\n",
            "Thank you so much for your time!\n",
            "Thank you so much for your time!\n",
            "Thank you for your time.\n",
            "Thanks for your help during the process!\n",
            "Thank you for your time.\n",
            "Thank you for your time.\n",
            "> >\n",
            "> >\n"
          ],
          "name": "stdout"
        }
      ]
    },
    {
      "metadata": {
        "id": "YVieV8XuTwWq",
        "colab_type": "code",
        "colab": {
          "base_uri": "https://localhost:8080/",
          "height": 90
        },
        "outputId": "454c7941-cdff-49c7-a297-a665671f312b"
      },
      "cell_type": "code",
      "source": [
        "sentences = [\"How are you doing?\", \"How do you do?\"]\n",
        "encodings=client.encode_texts(sentences)\n",
        "print(np.linalg.norm(encodings[0]-encodings[1]))\n",
        "print(np.dot(encodings[0],encodings[1]))\n",
        "print(encodings.shape)\n",
        "print(encodings[0][0])"
      ],
      "execution_count": 103,
      "outputs": [
        {
          "output_type": "stream",
          "text": [
            "1.1971834460101576\n",
            "0.2833756958483484\n",
            "(2, 512)\n",
            "-0.0467622\n"
          ],
          "name": "stdout"
        }
      ]
    }
  ]
}