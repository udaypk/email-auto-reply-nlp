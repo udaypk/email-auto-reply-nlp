{
  "nbformat": 4,
  "nbformat_minor": 0,
  "metadata": {
    "colab": {
      "name": "Uday.ipynb",
      "version": "0.3.2",
      "provenance": []
    },
    "kernelspec": {
      "name": "python3",
      "display_name": "Python 3"
    }
  },
  "cells": [
    {
      "metadata": {
        "id": "zUt_WpEm6v8j",
        "colab_type": "code",
        "colab": {}
      },
      "cell_type": "code",
      "source": [
        "!pip install PyDrive"
      ],
      "execution_count": 0,
      "outputs": []
    },
    {
      "metadata": {
        "id": "IlOHluJhlTIP",
        "colab_type": "code",
        "colab": {}
      },
      "cell_type": "code",
      "source": [
        "!ls"
      ],
      "execution_count": 0,
      "outputs": []
    },
    {
      "metadata": {
        "id": "OM5sf-PM6cWW",
        "colab_type": "code",
        "colab": {}
      },
      "cell_type": "code",
      "source": [
        "\n",
        "import os\n",
        "from pydrive.auth import GoogleAuth\n",
        "from pydrive.drive import GoogleDrive\n",
        "from google.colab import auth\n",
        "from oauth2client.client import GoogleCredentials"
      ],
      "execution_count": 0,
      "outputs": []
    },
    {
      "metadata": {
        "id": "QeFX0mTu66yp",
        "colab_type": "code",
        "colab": {}
      },
      "cell_type": "code",
      "source": [
        "auth.authenticate_user()\n",
        "gauth = GoogleAuth()\n",
        "gauth.credentials = GoogleCredentials.get_application_default()\n",
        "drive = GoogleDrive(gauth)"
      ],
      "execution_count": 0,
      "outputs": []
    },
    {
      "metadata": {
        "id": "ZLawO-907Ouz",
        "colab_type": "code",
        "colab": {}
      },
      "cell_type": "code",
      "source": [
        "download = drive.CreateFile({'id': '1kfUcDYHPdGkOyfhsYO2xPYQ9THStwdZu'})\n",
        "download.GetContentFile('102623729836648532953-raw-reply-pairs.pkl')"
      ],
      "execution_count": 0,
      "outputs": []
    },
    {
      "metadata": {
        "id": "XSoUCUN48Wzg",
        "colab_type": "code",
        "colab": {}
      },
      "cell_type": "code",
      "source": [
        "download = drive.CreateFile({'id': '1V-ogRtNQ9xr5JglcPw-zAjp-O7mjzEva'})\n",
        "download.GetContentFile('108371130441830548619-raw-reply-pairs.pkl')"
      ],
      "execution_count": 0,
      "outputs": []
    },
    {
      "metadata": {
        "id": "GJEQPvuEVRPF",
        "colab_type": "code",
        "colab": {}
      },
      "cell_type": "code",
      "source": [
        "import tensorflow as tf\n",
        "import numpy as np\n",
        "import pickle\n",
        "import re\n",
        "from collections import Counter\n",
        "import string\n",
        "import matplotlib.pyplot as plt\n",
        "%matplotlib inline "
      ],
      "execution_count": 0,
      "outputs": []
    },
    {
      "metadata": {
        "id": "Tkz9Pl7SzPNS",
        "colab_type": "code",
        "colab": {}
      },
      "cell_type": "code",
      "source": [
        "\n",
        "with open('102623729836648532953-raw-reply-pairs.pkl', 'rb') as f:\n",
        "    data_102 = pickle.load(f)\n",
        "with open('108371130441830548619-raw-reply-pairs.pkl', 'rb') as f:\n",
        "    data_108 = pickle.load(f)\n"
      ],
      "execution_count": 0,
      "outputs": []
    },
    {
      "metadata": {
        "id": "nB46jItB86Z1",
        "colab_type": "code",
        "colab": {
          "base_uri": "https://localhost:8080/",
          "height": 53
        },
        "outputId": "e7e8b01e-980a-43b3-cb8c-7e9d213cca57"
      },
      "cell_type": "code",
      "source": [
        "print('Number of records in 102:', len(data_102))\n",
        "print('Number of records in 108:', len(data_108))\n",
        "email_data=data_102"
      ],
      "execution_count": 3,
      "outputs": [
        {
          "output_type": "stream",
          "text": [
            "Number of records in 102: 856\n",
            "Number of records in 108: 1969\n"
          ],
          "name": "stdout"
        }
      ]
    },
    {
      "metadata": {
        "id": "N6m1PM9-_fKZ",
        "colab_type": "code",
        "colab": {
          "base_uri": "https://localhost:8080/",
          "height": 128
        },
        "outputId": "e0f0d6f0-8071-4bd3-afdf-25f0dade4cc9"
      },
      "cell_type": "code",
      "source": [
        "i=np.random.random_integers(len(email_data)-1)\n",
        "print(i)\n",
        "print(email_data[i][0]['message_core_body_sentences'])\n",
        "print(email_data[i][1]['message_core_body_sentences'])"
      ],
      "execution_count": 5,
      "outputs": [
        {
          "output_type": "stream",
          "text": [
            "184\n",
            "[\"PERSON_NAME, I'm going to be a field trip for AP Spanish starting period 3.\", 'My next free period will be period 3 on Thursday.', '- Lambert On Mon, Jan 28, 2013 at 3:35 PM, PERSON_NAME <EMAIL_ADDRESS>wrote: > Hey PERSON_NAME,**** > > ** ** > > I want to chat real quickly with you tomorrow.', 'What period are you free > tomorrow?', '**** > > ** ** > > Mr. PERSON_NAME**** > > ** ** > > PERSON_NAME**** > > School Counselor **** > > LOCATION **** > > LOCATION**** > > PHONE_NUMBER**** > > PHONE_NUMBER (fax)**** > > ** ** >']\n",
            "['I want to chat real quickly with you tomorrow.', 'What period are you free tomorrow?', 'Mr. PERSON_NAME, NY 11568 PHONE_NUMBER PHONE_NUMBER (fax)']\n"
          ],
          "name": "stdout"
        },
        {
          "output_type": "stream",
          "text": [
            "/usr/local/lib/python3.6/dist-packages/ipykernel_launcher.py:1: DeprecationWarning: This function is deprecated. Please call randint(1, 855 + 1) instead\n",
            "  \"\"\"Entry point for launching an IPython kernel.\n"
          ],
          "name": "stderr"
        }
      ]
    },
    {
      "metadata": {
        "id": "jZEXo3Cjl75D",
        "colab_type": "code",
        "colab": {}
      },
      "cell_type": "code",
      "source": [
        "import requests\n",
        "import json\n",
        "import numpy as np\n",
        "\n",
        "\n",
        "def _chunks(collection, chunk_size):\n",
        "    chunk_size = max(1, chunk_size)\n",
        "    return (collection[i:i + chunk_size] for i in range(0, len(collection), chunk_size))\n",
        "\n",
        "\n",
        "class USEClient(object):\n",
        "    def __init__(self, base_url=\"https://sentence-encoder.pointapi.com\"):\n",
        "        \"\"\" Create a new Universal Sentence Encoder Client\n",
        "        :param base_url: the base URL of the server\n",
        "        \"\"\"\n",
        "        self.endpoint = base_url + '/v1/models/USE:predict'\n",
        "\n",
        "    def encode_text(self, text):\n",
        "        \"\"\" Encode a piece of text.\n",
        "        :param text: some text (str)\n",
        "        :return: a np.array of shape (512,)\n",
        "        \"\"\"\n",
        "        body = {\"instances\": [text]}\n",
        "        r = requests.post(self.endpoint, data=json.dumps(body))\n",
        "        return np.array(r.json()['predictions'][0])\n",
        "\n",
        "    def encode_texts(self, texts, batch_size=1000):\n",
        "        \"\"\" Encode a piece of text.\n",
        "        Note: Requests will be sent in batches of maximum 1000 (`batch_size`)\n",
        "        sentences per batch to avoid `413 Request Entity Too Large` error.\n",
        "        :param texts: some texts ([str, ...])\n",
        "        :param batch_size: how many sentences to put in a single request\n",
        "        :return: a np.array of shape (?, 512)\n",
        "        \"\"\"\n",
        "        results = []\n",
        "        for batch in _chunks(texts, batch_size):\n",
        "            body = {\"instances\": batch}\n",
        "            r = requests.post(self.endpoint, data=json.dumps(body))\n",
        "            results.append(np.array(r.json()['predictions']))\n",
        "\n",
        "        return np.concatenate(results)\n",
        "\n",
        "    def sentence_similarity(self, s0, s1):\n",
        "        \"\"\" Compute sentence similarity\n",
        "        :param s0: a sentence (str)\n",
        "        :param s1: a sentence (str)\n",
        "        :return: a float in range [0,1]\n",
        "        \"\"\"\n",
        "        v0 = np.array(self.encode_text(s0))\n",
        "        v1 = np.array(self.encode_text(s1))\n",
        "\n",
        "        return np.dot(v0, v1) / (np.sqrt(v0.dot(v0)) * np.sqrt(v1.dot(v1)))\n",
        "client = USEClient(base_url=\"https://sentence-encoder.pointapi.com\")\n",
        "sentences = [\"Hello!\", \"How do you do?\"]\n",
        "encodings=client.encode_texts(sentences)\n"
      ],
      "execution_count": 0,
      "outputs": []
    },
    {
      "metadata": {
        "id": "g21D0FEumJtK",
        "colab_type": "code",
        "colab": {}
      },
      "cell_type": "code",
      "source": [
        "def count_letters(input_string, valid_letters=string.ascii_letters):\n",
        "    count = Counter(input_string) \n",
        "    return sum(count[letter] for letter in valid_letters)\n",
        "email_response=[[] for i in range(len(email_data))]\n",
        "for i in range(len(email_data)):\n",
        "  if (len(email_data[i][0]['message_core_body_sentences'])!=0):\n",
        "    string_list=[re.sub('[#*<>?-]','',each_sent) for each_sent in email_data[i][0]['message_core_body_sentences']]\n",
        "    pruned_str_list=[]    \n",
        "    for each_sent in string_list:         \n",
        "      each_sent=' '.join(each_sent.split())\n",
        "      if ('thank' not in each_sent.lower()) and ('sincere' not in each_sent.lower()) and (count_letters(each_sent.lower())>3):\n",
        "        pruned_str_list.append(each_sent)                        \n",
        "    email_response[i]=pruned_str_list"
      ],
      "execution_count": 0,
      "outputs": []
    },
    {
      "metadata": {
        "id": "cf32fEbxmWx3",
        "colab_type": "code",
        "colab": {
          "base_uri": "https://localhost:8080/",
          "height": 110
        },
        "outputId": "ebc6938c-9520-4cf2-db2d-d47604269681"
      },
      "cell_type": "code",
      "source": [
        "i=np.random.random_integers(len(email_data)-1)\n",
        "print(email_response[i])\n",
        "print(email_data[i][0]['message_core_body_sentences'])"
      ],
      "execution_count": 7,
      "outputs": [
        {
          "output_type": "stream",
          "text": [
            "[\"It's great to meet you over email, PERSON_NAME.\", \"Like PERSON_NAME said, I'd like to chat with you to see if you'd be a good fit on the Point team.\", 'Are you available sometime this weekend for a 30 minute Skype call', 'Looking forward to talking to you soon.', 'Best, PERSON_NAME ________________________ PERSON_NAME CTO and cofounder of Point.', 'https://pointmail.io/LOCATION Class of 2017']\n",
            "['Thanks for the intro, Fil!', \"It's great to meet you over email, PERSON_NAME.\", \"Like PERSON_NAME said, I'd like to chat with you to see if you'd be a good fit on the Point team.\", 'Are you available sometime this weekend for a 30 minute Skype call?', 'Looking forward to talking to you soon.', 'Best, PERSON_NAME *__**__**__**__**__**__**__**__**__**__**__**__* *PERSON_NAME* *CTO and co-founder of Point.', '<https://pointmail.io/>LOCATION Class of 2017*']\n"
          ],
          "name": "stdout"
        },
        {
          "output_type": "stream",
          "text": [
            "/usr/local/lib/python3.6/dist-packages/ipykernel_launcher.py:1: DeprecationWarning: This function is deprecated. Please call randint(1, 855 + 1) instead\n",
            "  \"\"\"Entry point for launching an IPython kernel.\n"
          ],
          "name": "stderr"
        }
      ]
    },
    {
      "metadata": {
        "id": "QcJFhoD6nBDj",
        "colab_type": "code",
        "colab": {}
      },
      "cell_type": "code",
      "source": [
        "email_response_embeddings=[[] for i in range(len(email_response))]\n",
        "for i in range(len(email_response)):\n",
        "  if (len(email_response[i])!=0):\n",
        "    email_response_embeddings[i]=client.encode_texts(email_response[i])"
      ],
      "execution_count": 0,
      "outputs": []
    },
    {
      "metadata": {
        "id": "KcEyIGnCoulz",
        "colab_type": "code",
        "colab": {}
      },
      "cell_type": "code",
      "source": [
        "response_phrase_embedding=[]\n",
        "response_phrase_indexing=[]\n",
        "for i in range(len(email_response_embeddings)):\n",
        "  if (len(email_response_embeddings[i])!=0):\n",
        "    for j in range(len(email_response_embeddings[i])):\n",
        "      response_phrase_embedding.append(email_response_embeddings[i][j])\n",
        "      response_phrase_indexing.append([i,j])"
      ],
      "execution_count": 0,
      "outputs": []
    },
    {
      "metadata": {
        "id": "FV5403MNoyn6",
        "colab_type": "code",
        "colab": {
          "base_uri": "https://localhost:8080/",
          "height": 72
        },
        "outputId": "894c0ca4-712b-4e03-83b1-dfdce1083bd8"
      },
      "cell_type": "code",
      "source": [
        "print(len(response_phrase_embedding))\n",
        "print(len(response_phrase_indexing))\n",
        "response_phrase_indexing[23]"
      ],
      "execution_count": 12,
      "outputs": [
        {
          "output_type": "stream",
          "text": [
            "5465\n",
            "5465\n"
          ],
          "name": "stdout"
        },
        {
          "output_type": "execute_result",
          "data": {
            "text/plain": [
              "[4, 3]"
            ]
          },
          "metadata": {
            "tags": []
          },
          "execution_count": 12
        }
      ]
    },
    {
      "metadata": {
        "id": "OoG5Yboto5PZ",
        "colab_type": "code",
        "colab": {}
      },
      "cell_type": "code",
      "source": [
        "response_phrase_distance_matrix=np.zeros((len(response_phrase_embedding),len(response_phrase_embedding)))\n",
        "for i in range(len(response_phrase_embedding)):\n",
        "  for j in range(i+1,len(response_phrase_embedding)):\n",
        "    response_phrase_distance_matrix[i][j]=np.linalg.norm(response_phrase_embedding[i]-response_phrase_embedding[j])"
      ],
      "execution_count": 0,
      "outputs": []
    },
    {
      "metadata": {
        "id": "xLfDS3BaphmC",
        "colab_type": "code",
        "colab": {}
      },
      "cell_type": "code",
      "source": [
        "response_phrase_distance_vector=np.reshape(response_phrase_distance_matrix,len(response_phrase_embedding)*len(response_phrase_embedding))"
      ],
      "execution_count": 0,
      "outputs": []
    },
    {
      "metadata": {
        "id": "-wLlJYPzpnwl",
        "colab_type": "code",
        "colab": {
          "base_uri": "https://localhost:8080/",
          "height": 72
        },
        "outputId": "e1eb1eca-4b29-4d68-e768-ed5deed4c9ff"
      },
      "cell_type": "code",
      "source": [
        "distance_threshold=0.1\n",
        "number_of_similar_phrases=np.sum(response_phrase_distance_vector<distance_threshold)-(response_phrase_distance_vector.shape[0]-len(response_phrase_embedding))/2+len(response_phrase_embedding)\n",
        "print('number_of_similar_phrases for threshold ', distance_threshold,':', number_of_similar_phrases)\n",
        "distance_threshold=0.2\n",
        "number_of_similar_phrases=np.sum(response_phrase_distance_vector<distance_threshold)-(response_phrase_distance_vector.shape[0]-len(response_phrase_embedding))/2+len(response_phrase_embedding)\n",
        "print('number_of_similar_phrases for threshold ', distance_threshold,':', number_of_similar_phrases)\n",
        "distance_threshold=0.4\n",
        "number_of_similar_phrases=np.sum(response_phrase_distance_vector<distance_threshold)-(response_phrase_distance_vector.shape[0]-len(response_phrase_embedding))/2+len(response_phrase_embedding)\n",
        "print('number_of_similar_phrases for threshold ', distance_threshold,':', number_of_similar_phrases)"
      ],
      "execution_count": 90,
      "outputs": [
        {
          "output_type": "stream",
          "text": [
            "number_of_similar_phrases for threshold  0.1 : 16886.0\n",
            "number_of_similar_phrases for threshold  0.2 : 16982.0\n",
            "number_of_similar_phrases for threshold  0.4 : 17748.0\n"
          ],
          "name": "stdout"
        }
      ]
    },
    {
      "metadata": {
        "id": "Ntsm-j7jpv3u",
        "colab_type": "code",
        "colab": {
          "base_uri": "https://localhost:8080/",
          "height": 283
        },
        "outputId": "b7acf6e5-22c3-44cf-c44b-3bd62d4460f9"
      },
      "cell_type": "code",
      "source": [
        "distance_threshold=0.4\n",
        "response_phrase_distance_cluster=[]\n",
        "response_phrase_distance_score=np.sum(np.logical_and((response_phrase_distance_matrix<distance_threshold),(response_phrase_distance_matrix>0)),axis=1,keepdims=True)\n",
        "print(response_phrase_distance_score.shape)\n",
        "plt.plot(response_phrase_distance_score) \n",
        "plt.show()"
      ],
      "execution_count": 91,
      "outputs": [
        {
          "output_type": "stream",
          "text": [
            "(5465, 1)\n"
          ],
          "name": "stdout"
        },
        {
          "output_type": "display_data",
          "data": {
            "image/png": "[encoded data removed]",
            "text/plain": [
              "<matplotlib.figure.Figure at 0x7ff5153794e0>"
            ]
          },
          "metadata": {
            "tags": []
          }
        }
      ]
    },
    {
      "metadata": {
        "id": "0_F1Zl5frNkd",
        "colab_type": "code",
        "colab": {
          "base_uri": "https://localhost:8080/",
          "height": 1670
        },
        "outputId": "743898cb-46d5-45d3-90dd-093ae0f33570"
      },
      "cell_type": "code",
      "source": [
        "thres_freq=10\n",
        "top_response_phrases_distance_index=np.where(response_phrase_distance_score>thres_freq)[0]\n",
        "#print(top_response_phrases_index)\n",
        "for i in range(len(top_response_phrases_distance_index)):\n",
        "  k,l=response_phrase_indexing[top_response_phrases_distance_index[i]]\n",
        "  print(email_response[k][l])\n"
      ],
      "execution_count": 92,
      "outputs": [
        {
          "output_type": "stream",
          "text": [
            "Resume_Draft.pdf\n",
            "Resume_Draft.pdf\n",
            "PERSON_NAME School Counselor LOCATION LOCATION PHONE_NUMBER PHONE_NUMBER (fax)\n",
            "PERSON_NAME School Counselor LOCATION LOCATION PHONE_NUMBER PHONE_NUMBER (fax)\n",
            "________________________ PERSON_NAME CTO and cofounder of Point.\n",
            "https://pointmail.io/LOCATION Class of 2017\n",
            "Dr. PERSON_NAME\n",
            "Upload jokes, photos and more.\n",
            "It's free!\n",
            "http://g.msn.com/8HMBENUS/2755PS=47575\n",
            "________________________ PERSON_NAME CTO and cofounder of Point.\n",
            "https://pointmail.io/LOCATION Class of 2017\n",
            "https://pointmail.io/LOCATION Class of 2017\n",
            "PERSON_NAME\n",
            "PERSON_NAME.\n",
            "________________________ PERSON_NAME CTO and cofounder of Point.\n",
            "https://pointmail.io/LOCATION Class of 2017\n",
            "Mr. PERSON_NAME PERSON_NAME School Counselor LOCATION LOCATION PHONE_NUMBER PHONE_NUMBER (fax)\n",
            "https://pointmail.io/LOCATION Class of 2017\n",
            "Best, PERSON_NAME ________________________ PERSON_NAME CTO and cofounder of Point.\n",
            "https://pointmail.io/LOCATION Class of 2017\n",
            "https://pointmail.io/LOCATION Class of 2017\n",
            "________________________ PERSON_NAME CTO and cofounder of Point.\n",
            "https://pointmail.io/LOCATION Class of 2017\n",
            "PERSON_NAME\n",
            "Best, PERSON_NAME ________________________ PERSON_NAME CTO and cofounder of Point.\n",
            "https://pointmail.io/LOCATION Class of 2017\n",
            "https://pointmail.io/LOCATION Class of 2017\n",
            "PERSON_NAME ________________________ PERSON_NAME CTO and cofounder of Point.\n",
            "https://pointmail.io/LOCATION Class of 2017\n",
            "https://pointmail.io/LOCATION Class of 2017\n",
            "https://pointmail.io/LOCATION Class of 2017\n",
            "________________________ PERSON_NAME CTO and cofounder of Point.\n",
            "https://pointmail.io/LOCATION Class of 2017\n",
            "________________________ PERSON_NAME CTO and cofounder of Point.\n",
            "https://pointmail.io/LOCATION Class of 2017\n",
            "https://pointmail.io/LOCATION Class of 2017\n",
            "________________________ PERSON_NAME CTO and cofounder of Point.\n",
            "https://pointmail.io/LOCATION Class of 2017\n",
            "________________________ PERSON_NAME CTO and cofounder of Point.\n",
            "https://pointmail.io/LOCATION Class of 2017\n",
            "https://pointmail.io/LOCATION Class of 2017\n",
            "________________________ PERSON_NAME CTO and cofounder of Point.\n",
            "https://pointmail.io/LOCATION Class of 2017\n",
            "________________________ PERSON_NAME CTO and cofounder of Point.\n",
            "https://pointmail.io/LOCATION Class of 2017\n",
            "https://pointmail.io/LOCATION Class of 2017\n",
            "Best, PERSON_NAME ________________________ PERSON_NAME CTO and cofounder of Point.\n",
            "https://pointmail.io/LOCATION Class of 2017\n",
            "Best, PERSON_NAME ________________________ PERSON_NAME CTO and cofounder of Point.\n",
            "https://pointmail.io/LOCATION Class of 2017\n",
            "________________________ PERSON_NAME CTO and cofounder of Point.\n",
            "https://pointmail.io/LOCATION Class of 2017\n",
            "//hangouts.google.com/call/bxBmnWWzOp1_KsOVfkIaAAEE ________________________ PERSON_NAME CTO and cofounder of Point.\n",
            "https://pointmail.io/LOCATION Class of 2017\n",
            "________________________ PERSON_NAME CTO and cofounder of Point.\n",
            "https://pointmail.io/LOCATION Class of 2017\n",
            "________________________ PERSON_NAME CTO and cofounder of Point.\n",
            "https://pointmail.io/LOCATION Class of 2017\n",
            "https://pointmail.io/LOCATION Class of 2017\n",
            "________________________ PERSON_NAME CTO and cofounder of Point.\n",
            "https://pointmail.io/LOCATION Class of 2017\n",
            "PERSON_NAME\n",
            "PERSON_NAME.\n",
            "________________________ PERSON_NAME CTO and cofounder of Point.\n",
            "https://pointmail.io/LOCATION Class of 2017\n",
            "https://pointmail.io/LOCATION Class of 2017\n",
            "https://pointmail.io/LOCATION Class of 2017\n",
            "________________________ PERSON_NAME CTO and cofounder of Point.\n",
            "https://pointmail.io/LOCATION Class of 2017\n",
            "https://pointmail.io/LOCATION Class of 2017\n",
            "________________________ PERSON_NAME CTO and cofounder of Point.\n",
            "https://pointmail.io/LOCATION Class of 2017\n",
            "________________________ PERSON_NAME CTO and cofounder of Point.\n",
            "https://pointmail.io/LOCATION Class of 2017\n",
            "________________________ PERSON_NAME CTO and cofounder of Point.\n",
            "Best, PERSON_NAME ________________________ PERSON_NAME CTO and cofounder of Point.\n",
            "PERSON_NAME ________________________ PERSON_NAME CTO and cofounder of Point.\n",
            "https://pointmail.io/LOCATION Class of 2017\n",
            "https://pointmail.io/LOCATION Class of 2017\n",
            "________________________ PERSON_NAME CTO and cofounder of Point.\n",
            "https://pointmail.io/LOCATION Class of 2017\n",
            "________________________ PERSON_NAME CTO and cofounder of Point.\n",
            "https://pointmail.io/LOCATION Class of 2017\n",
            "________________________ PERSON_NAME CTO and cofounder of Point.\n",
            "________________________ PERSON_NAME CTO and cofounder of Point.\n",
            "https://pointmail.io/LOCATION Class of 2017\n",
            "Best, PERSON_NAME ________________________ PERSON_NAME CTO and cofounder of Point.\n",
            "https://pointmail.io/LOCATION Class of 2017\n",
            "https://pointmail.io/LOCATION Class of 2017\n",
            "Service hours are due on November 9!\n"
          ],
          "name": "stdout"
        }
      ]
    },
    {
      "metadata": {
        "id": "CNnjjyp13rIY",
        "colab_type": "code",
        "colab": {}
      },
      "cell_type": "code",
      "source": [
        "response_phrase_dotproduct_matrix=np.zeros((len(response_phrase_embedding),len(response_phrase_embedding)))\n",
        "for i in range(len(response_phrase_embedding)):\n",
        "  for j in range(i+1,len(response_phrase_embedding)):\n",
        "    response_phrase_dotproduct_matrix[i][j]=np.dot(response_phrase_embedding[i],response_phrase_embedding[j])\n",
        "    \n",
        "response_phrase_dotproduct_vector=np.reshape(response_phrase_dotproduct_matrix,len(response_phrase_embedding)*len(response_phrase_embedding))    "
      ],
      "execution_count": 0,
      "outputs": []
    },
    {
      "metadata": {
        "id": "5etO7mNJ34AD",
        "colab_type": "code",
        "colab": {
          "base_uri": "https://localhost:8080/",
          "height": 72
        },
        "outputId": "26afe612-5bf2-48bc-8773-ef5f33009b15"
      },
      "cell_type": "code",
      "source": [
        "dot_threshold=0.7\n",
        "number_of_similar_phrases=np.sum(response_phrase_dotproduct_vector>dot_threshold)\n",
        "print('number_of_similar_phrases for threshold ', dot_threshold,':', number_of_similar_phrases)\n",
        "dot_threshold=0.8\n",
        "number_of_similar_phrases=np.sum(response_phrase_dotproduct_vector>dot_threshold)\n",
        "print('number_of_similar_phrases for threshold ', dot_threshold,':', number_of_similar_phrases)\n",
        "dot_threshold=0.9\n",
        "number_of_similar_phrases=np.sum(response_phrase_dotproduct_vector>dot_threshold)\n",
        "print('number_of_similar_phrases for threshold ', dot_threshold,':', number_of_similar_phrases)"
      ],
      "execution_count": 14,
      "outputs": [
        {
          "output_type": "stream",
          "text": [
            "number_of_similar_phrases for threshold  0.7 : 24635\n",
            "number_of_similar_phrases for threshold  0.8 : 10710\n",
            "number_of_similar_phrases for threshold  0.9 : 7493\n"
          ],
          "name": "stdout"
        }
      ]
    },
    {
      "metadata": {
        "id": "46EcuJlX3_Qq",
        "colab_type": "code",
        "colab": {
          "base_uri": "https://localhost:8080/",
          "height": 283
        },
        "outputId": "40e4fbec-d613-4f8e-d4d3-37bebebad106"
      },
      "cell_type": "code",
      "source": [
        "dot_threshold=0.9\n",
        "response_phrase_cluster=[]\n",
        "response_phrase_dotproduct_score=np.sum((response_phrase_dotproduct_matrix>dot_threshold),axis=1,keepdims=True)\n",
        "print(response_phrase_dotproduct_score.shape)\n",
        "plt.plot(response_phrase_dotproduct_score) \n",
        "plt.show()"
      ],
      "execution_count": 15,
      "outputs": [
        {
          "output_type": "stream",
          "text": [
            "(5465, 1)\n"
          ],
          "name": "stdout"
        },
        {
          "output_type": "display_data",
          "data": {
            "image/png": "[encoded data removed]",
            "text/plain": [
              "<matplotlib.figure.Figure at 0x7fad495aa048>"
            ]
          },
          "metadata": {
            "tags": []
          }
        }
      ]
    },
    {
      "metadata": {
        "id": "R6zN7pma4J4H",
        "colab_type": "code",
        "colab": {
          "base_uri": "https://localhost:8080/",
          "height": 3360
        },
        "outputId": "6656b8a3-c8d7-4230-b6cf-e6270bec6713"
      },
      "cell_type": "code",
      "source": [
        "thres_freq=10\n",
        "top_response_phrases_dotprod_index=np.where(response_phrase_dotproduct_score>thres_freq)[0]\n",
        "#print(top_response_phrases_index)\n",
        "for i in range(len(top_response_phrases_dotprod_index)):\n",
        "  k,l=response_phrase_indexing[top_response_phrases_dotprod_index[i]]\n",
        "  print(email_response[k][l])"
      ],
      "execution_count": 16,
      "outputs": [
        {
          "output_type": "stream",
          "text": [
            "Dr. PERSON_NAME\n",
            "Dr. PERSON_NAME\n",
            "Dr. PERSON_NAME\n",
            "Resume_Draft.pdf\n",
            "Resume_Draft.pdf\n",
            "No problem.\n",
            "PERSON_NAME School Counselor LOCATION LOCATION PHONE_NUMBER PHONE_NUMBER (fax)\n",
            "PERSON_NAME School Counselor LOCATION LOCATION PHONE_NUMBER PHONE_NUMBER (fax)\n",
            "________________________ PERSON_NAME CTO and cofounder of Point.\n",
            "https://pointmail.io/LOCATION Class of 2017\n",
            "PERSON_NAME\n",
            "Dr. PERSON_NAME\n",
            "Upload jokes, photos and more.\n",
            "It's free!\n",
            "http://g.msn.com/8HMBENUS/2755PS=47575\n",
            "Abdale\n",
            "PERSON_NAME\n",
            "________________________ PERSON_NAME CTO and cofounder of Point.\n",
            "https://pointmail.io/LOCATION Class of 2017\n",
            "PERSON_NAME ________________________________ With MSN Spaces email straight to your blog.\n",
            "Upload jokes, photos and more.\n",
            "It's free!\n",
            "https://pointmail.io/LOCATION Class of 2017\n",
            "PERSON_NAME\n",
            "PERSON_NAME.\n",
            "PERSON_NAME\n",
            "PERSON_NAME\n",
            "http://g.msn.com/8HMAENUS/2731PS=47575\n",
            "http://g.msn.com/8HMAENUS/2749PS=47575\n",
            "http://g.msn.com/8HMAENUS/2749PS=47575\n",
            "http://g.msn.com/8HMAENUS/2749PS=47575\n",
            "http://g.msn.com/8HMAENUS/2755PS=47575\n",
            "________________________ PERSON_NAME CTO and cofounder of Point.\n",
            "https://pointmail.io/LOCATION Class of 2017\n",
            "PERSON_NAME\n",
            "Mr. PERSON_NAME PERSON_NAME School Counselor LOCATION LOCATION PHONE_NUMBER PHONE_NUMBER (fax)\n",
            "Mr. PERSON_NAME PERSON_NAME School Counselor LOCATION LOCATION PHONE_NUMBER PHONE_NUMBER (fax)\n",
            "https://pointmail.io/LOCATION Class of 2017\n",
            "Best, PERSON_NAME ________________________ PERSON_NAME CTO and cofounder of Point.\n",
            "https://pointmail.io/LOCATION Class of 2017\n",
            "https://pointmail.io/LOCATION Class of 2017\n",
            "________________________ PERSON_NAME CTO and cofounder of Point.\n",
            "https://pointmail.io/LOCATION Class of 2017\n",
            "PERSON_NAME\n",
            "PERSON_NAME\n",
            "http://www.weeblsstuff.com/toons/aaaaaaaaaaaaahaha/\n",
            "image.png\n",
            "Best, PERSON_NAME ________________________ PERSON_NAME CTO and cofounder of Point.\n",
            "https://pointmail.io/LOCATION Class of 2017\n",
            "https://pointmail.io/LOCATION Class of 2017\n",
            "PERSON_NAME ________________________ PERSON_NAME CTO and cofounder of Point.\n",
            "https://pointmail.io/LOCATION Class of 2017\n",
            "https://pointmail.io/LOCATION Class of 2017\n",
            "The Point Team ________________________ PERSON_NAME CTO and cofounder of Point.\n",
            "https://pointmail.io/LOCATION Class of 2017\n",
            "________________________ PERSON_NAME CTO and cofounder of Point.\n",
            "https://pointmail.io/LOCATION Class of 2017\n",
            "________________________ PERSON_NAME CTO and cofounder of Point.\n",
            "https://pointmail.io/LOCATION Class of 2017\n",
            "https://pointmail.io/LOCATION Class of 2017\n",
            "________________________ PERSON_NAME CTO and cofounder of Point.\n",
            "https://pointmail.io/LOCATION Class of 2017\n",
            "________________________ PERSON_NAME CTO and cofounder of Point.\n",
            "https://pointmail.io/LOCATION Class of 2017\n",
            "https://pointmail.io/LOCATION Class of 2017\n",
            "________________________ PERSON_NAME CTO and cofounder of Point.\n",
            "https://pointmail.io/LOCATION Class of 2017\n",
            "________________________ PERSON_NAME CTO and cofounder of Point.\n",
            "https://pointmail.io/LOCATION Class of 2017\n",
            "https://pointmail.io/LOCATION Class of 2017\n",
            "Best, PERSON_NAME ________________________ PERSON_NAME CTO and cofounder of Point.\n",
            "https://pointmail.io/LOCATION Class of 2017\n",
            "Best, PERSON_NAME ________________________ PERSON_NAME CTO and cofounder of Point.\n",
            "https://pointmail.io/LOCATION Class of 2017\n",
            "________________________ PERSON_NAME CTO and cofounder of Point.\n",
            "https://pointmail.io/LOCATION Class of 2017\n",
            "//hangouts.google.com/call/bxBmnWWzOp1_KsOVfkIaAAEE ________________________ PERSON_NAME CTO and cofounder of Point.\n",
            "https://pointmail.io/LOCATION Class of 2017\n",
            "________________________ PERSON_NAME CTO and cofounder of Point.\n",
            "https://pointmail.io/LOCATION Class of 2017\n",
            "________________________ PERSON_NAME CTO and cofounder of Point.\n",
            "https://pointmail.io/LOCATION Class of 2017\n",
            "https://pointmail.io/LOCATION Class of 2017\n",
            "________________________ PERSON_NAME CTO and cofounder of Point.\n",
            "https://pointmail.io/LOCATION Class of 2017\n",
            "LOCATION.pdf\n",
            "PERSON_NAME.\n",
            "PERSON_NAME\n",
            "PERSON_NAME.\n",
            "PERSON_NAME\n",
            "PERSON_NAME\n",
            "________________________ PERSON_NAME CTO and cofounder of Point.\n",
            "https://pointmail.io/LOCATION Class of 2017\n",
            "https://pointmail.io/LOCATION Class of 2017\n",
            "https://pointmail.io/LOCATION Class of 2017\n",
            "________________________ PERSON_NAME CTO and cofounder of Point.\n",
            "https://pointmail.io/LOCATION Class of 2017\n",
            "https://pointmail.io/LOCATION Class of 2017\n",
            "________________________ PERSON_NAME CTO and cofounder of Point.\n",
            "https://pointmail.io/LOCATION Class of 2017\n",
            "________________________ PERSON_NAME CTO and cofounder of Point.\n",
            "https://pointmail.io/LOCATION Class of 2017\n",
            "https://pointmail.io/LOCATION Class of 2017\n",
            "https://pointmail.io/LOCATION Class of 2017\n",
            "________________________ PERSON_NAME CTO and cofounder of Point.\n",
            "https://pointmail.io/LOCATION Class of 2017\n",
            "Best, PERSON_NAME ________________________ PERSON_NAME CTO and cofounder of Point.\n",
            "https://pointmail.io/LOCATION Class of 2017\n",
            "PERSON_NAME ________________________ PERSON_NAME CTO and cofounder of Point.\n",
            "https://pointmail.io/LOCATION Class of 2017\n",
            "Cover_Letter_Bloomberg.docx\n",
            "Cover_Letter_Bloomberg.docx\n",
            "PERSON_NAME\n",
            "PERSON_NAME\n",
            "https://pointmail.io/LOCATION Class of 2017\n",
            "https://pointmail.io/LOCATION Class of 2017\n",
            "https://pointmail.io/LOCATION Class of 2017\n",
            "https://pointmail.io/LOCATION Class of 2017\n",
            "________________________ PERSON_NAME CTO and cofounder of Point.\n",
            "https://pointmail.io/LOCATION Class of 2017\n",
            "________________________ PERSON_NAME CTO and cofounder of Point.\n",
            "https://pointmail.io/LOCATION Class of 2017\n",
            "https://pointmail.io/LOCATION Class of 2017\n",
            "________________________ PERSON_NAME CTO and cofounder of Point.\n",
            "https://pointmail.io/LOCATION Class of 2017\n",
            "________________________ PERSON_NAME CTO and cofounder of Point.\n",
            "https://pointmail.io/LOCATION Class of 2017\n",
            "________________________ PERSON_NAME CTO and cofounder of Point.\n",
            "https://pointmail.io/LOCATION Class of 2017\n",
            "PERSON_NAME\n",
            "PERSON_NAME\n",
            "PERSON_NAME\n",
            "ewsdonline.org/exchweb/bin/redir.\n",
            "Best, PERSON_NAME ________________________ PERSON_NAME CTO and cofounder of Point.\n",
            "https://pointmail.io/LOCATION Class of 2017\n",
            "//www.youtube.com/watchv=5lY019KgP4E\n",
            "________________________ PERSON_NAME CTO and cofounder of Point.\n",
            "https://pointmail.io/LOCATION Class of 2017\n",
            "https://pointmail.io/LOCATION Class of 2017\n",
            "Do you think nothing is required of you as a member of NHS\n",
            "Are you bored of doing nothing for us\n",
            "If so, you'll be very pleased to know that we are actually running A LOT of events...\n",
            "and YOU will be required to help us with them!\n",
            "Remember that you have to sign up or you'll risk being placed on probation.\n",
            "Also, please let us know if you are also interested in being a committee head.\n",
            "It'll look good on your college resume :) We will have a mandatory meeting for all members after school on Tuesday, October 30 in Room 450.\n",
            "If you have any questions, that will be the best time to ask them.\n",
            "Service hours are due on November 9!\n",
            "Do you think nothing is required of you as a member of NHS\n",
            "Are you bored of doing nothing for us\n",
            "If so, you'll be very pleased to know that we are actually running A LOT of events...\n",
            "and YOU will be required to help us with them!\n",
            "Remember that you have to sign up or you'll risk being placed on probation.\n",
            "Also, please let us know if you are also interested in being a committee head.\n",
            "It'll look good on your college resume :) We will have a mandatory meeting for all members after school on Tuesday, October 30 in Room 450.\n",
            "If you have any questions, that will be the best time to ask them.\n",
            "Service hours are due on November 9!\n",
            "Do you think nothing is required of you as a member of NHS\n",
            "Are you bored of doing nothing for us\n",
            "If so, you'll be very pleased to know that we are actually running A LOT of events...\n",
            "and YOU will be required to help us with them!\n",
            "Remember that you have to sign up or you'll risk being placed on probation.\n",
            "Also, please let us know if you are also interested in being a committee head.\n",
            "It'll look good on your college resume :) We will have a mandatory meeting for all members after school on Tuesday, October 30 in Room 450.\n",
            "If you have any questions, that will be the best time to ask them.\n",
            "Service hours are due on November 9!\n",
            "Do you think nothing is required of you as a member of NHS\n",
            "Are you bored of doing nothing for us\n",
            "If so, you'll be very pleased to know that we are actually running A LOT of events...\n",
            "and YOU will be required to help us with them!\n",
            "Remember that you have to sign up or you'll risk being placed on probation.\n",
            "Also, please let us know if you are also interested in being a committee head.\n",
            "It'll look good on your college resume :) We will have a mandatory meeting for all members after school on Tuesday, October 30 in Room 450.\n",
            "If you have any questions, that will be the best time to ask them.\n",
            "Service hours are due on November 9!\n",
            "Do you think nothing is required of you as a member of NHS\n",
            "Are you bored of doing nothing for us\n",
            "If so, you'll be very pleased to know that we are actually running A LOT of events...\n",
            "and YOU will be required to help us with them!\n",
            "Remember that you have to sign up or you'll risk being placed on probation.\n",
            "Also, please let us know if you are also interested in being a committee head.\n",
            "It'll look good on your college resume :) We will have a mandatory meeting for all members after school on Tuesday, October 30 in Room 450.\n",
            "If you have any questions, that will be the best time to ask them.\n",
            "Service hours are due on November 9!\n"
          ],
          "name": "stdout"
        }
      ]
    },
    {
      "metadata": {
        "id": "LKptA-ij-Ymy",
        "colab_type": "code",
        "colab": {
          "base_uri": "https://localhost:8080/",
          "height": 53
        },
        "outputId": "ed0c763a-15fa-4658-a306-0c71d820fad0"
      },
      "cell_type": "code",
      "source": [
        "print('Number of top response phrases through distance metric:',len(top_response_phrases_distance_index))\n",
        "print('Number of top response phrases through dot product metric:',len(top_response_phrases_dotprod_index))"
      ],
      "execution_count": 95,
      "outputs": [
        {
          "output_type": "stream",
          "text": [
            "Number of top response phrases through distance metric: 91\n",
            "Number of top response phrases through dot product metric: 184\n"
          ],
          "name": "stdout"
        }
      ]
    },
    {
      "metadata": {
        "id": "FXFMjH-yDSHG",
        "colab_type": "code",
        "colab": {
          "base_uri": "https://localhost:8080/",
          "height": 283
        },
        "outputId": "315c7bca-f0a9-46f6-c9e6-29c501b9fe02"
      },
      "cell_type": "code",
      "source": [
        "response_phrase_dotproduct_sorted_idx = np.argsort(-response_phrase_dotproduct_score.flatten())\n",
        "plt.plot(np.sort(response_phrase_dotproduct_score.flatten())) \n",
        "plt.show()\n",
        "print(response_phrase_dotproduct_sorted_idx)"
      ],
      "execution_count": 17,
      "outputs": [
        {
          "output_type": "display_data",
          "data": {
            "image/png": "[encoded data removed]",
            "text/plain": [
              "<matplotlib.figure.Figure at 0x7fad49708c88>"
            ]
          },
          "metadata": {
            "tags": []
          }
        },
        {
          "output_type": "stream",
          "text": [
            "[ 373  572  669 ... 2127 2133 5464]\n"
          ],
          "name": "stdout"
        }
      ]
    },
    {
      "metadata": {
        "id": "0LxFaN3f_2DL",
        "colab_type": "code",
        "colab": {
          "base_uri": "https://localhost:8080/",
          "height": 925
        },
        "outputId": "eaddbe1e-d698-425a-ce24-8ddc855985e7"
      },
      "cell_type": "code",
      "source": [
        "#This is a very naive way of clustering the sentence embeddings\n",
        "unique_response_phrases_dotproduct=[]\n",
        "unique_response_phrases_dotproduct_index=[[]]\n",
        "unique_response_phrases_dotproduct.append(response_phrase_embedding[response_phrase_dotproduct_sorted_idx[0]])\n",
        "unique_response_phrases_dotproduct_index[0].append(response_phrase_dotproduct_sorted_idx[0])\n",
        "\n",
        "for i in range(1,len(response_phrase_embedding)):\n",
        "  print(i)\n",
        "  for j in range(len(unique_response_phrases_dotproduct)):    \n",
        "    if (np.dot(response_phrase_embedding[response_phrase_dotproduct_sorted_idx[i]],unique_response_phrases_dotproduct[j])>dot_threshold):\n",
        "      unique_response_phrases_dotproduct[j]=(unique_response_phrases_dotproduct[j]+response_phrase_embedding[response_phrase_dotproduct_sorted_idx[i]])/2\n",
        "      unique_response_phrases_dotproduct_index[j].append(response_phrase_dotproduct_sorted_idx[i])\n",
        "    else:\n",
        "      unique_response_phrases_dotproduct.append(response_phrase_embedding[response_phrase_dotproduct_sorted_idx[i]])\n",
        "      unique_response_phrases_dotproduct_index.append([response_phrase_dotproduct_sorted_idx[i]])\n",
        "\n",
        "    \n"
      ],
      "execution_count": 0,
      "outputs": [
        {
          "output_type": "stream",
          "text": [
            "1\n",
            "2\n",
            "3\n",
            "4\n",
            "5\n",
            "6\n",
            "7\n",
            "8\n",
            "9\n",
            "10\n",
            "11\n",
            "12\n",
            "13\n",
            "14\n",
            "15\n",
            "16\n",
            "17\n",
            "18\n",
            "19\n",
            "20\n",
            "21\n",
            "22\n",
            "23\n",
            "24\n",
            "25\n",
            "26\n",
            "27\n",
            "28\n",
            "29\n",
            "30\n",
            "31\n",
            "32\n",
            "33\n",
            "34\n",
            "35\n",
            "36\n",
            "37\n",
            "38\n",
            "39\n",
            "40\n",
            "41\n",
            "42\n",
            "43\n",
            "44\n",
            "45\n",
            "46\n",
            "47\n",
            "48\n",
            "49\n",
            "50\n"
          ],
          "name": "stdout"
        }
      ]
    },
    {
      "metadata": {
        "id": "UEfx3LIhOREK",
        "colab_type": "code",
        "colab": {
          "base_uri": "https://localhost:8080/",
          "height": 55
        },
        "outputId": "14e30183-5c34-4967-b670-7bf2391b0346"
      },
      "cell_type": "code",
      "source": [
        "print(unique_response_phrases_dotproduct_index[0])"
      ],
      "execution_count": 123,
      "outputs": [
        {
          "output_type": "stream",
          "text": [
            "[373, 572, 669, 1235, 1453, 1458, 1461, 1465, 1626, 1631, 1635, 1638, 1644, 1647, 1650, 1654, 1676, 1683, 1688, 1698, 1703, 1720, 1816, 1891, 1894, 1896, 1900, 1904, 1907, 1911]\n"
          ],
          "name": "stdout"
        }
      ]
    },
    {
      "metadata": {
        "id": "s_gcpjFzKqKk",
        "colab_type": "code",
        "colab": {
          "base_uri": "https://localhost:8080/",
          "height": 35
        },
        "outputId": "7a7da6d3-502a-4ea5-d75a-447a7789ac4a"
      },
      "cell_type": "code",
      "source": [
        "a=[[]]\n",
        "a[0].append(1)\n",
        "a[0].append(2)\n",
        "a\n",
        "a.append([1])\n",
        "a"
      ],
      "execution_count": 113,
      "outputs": [
        {
          "output_type": "execute_result",
          "data": {
            "text/plain": [
              "[[1, 2], [1]]"
            ]
          },
          "metadata": {
            "tags": []
          },
          "execution_count": 113
        }
      ]
    }
  ]
}