{
  "nbformat": 4,
  "nbformat_minor": 0,
  "metadata": {
    "colab": {
      "name": "Copy of Uday.ipynb",
      "version": "0.3.2",
      "provenance": [],
      "toc_visible": true
    },
    "kernelspec": {
      "name": "python3",
      "display_name": "Python 3"
    }
  },
  "cells": [
    {
      "metadata": {
        "id": "zUt_WpEm6v8j",
        "colab_type": "code",
        "colab": {}
      },
      "cell_type": "code",
      "source": [
        "!pip install PyDrive"
      ],
      "execution_count": 0,
      "outputs": []
    },
    {
      "metadata": {
        "id": "OM5sf-PM6cWW",
        "colab_type": "code",
        "colab": {}
      },
      "cell_type": "code",
      "source": [
        "\n",
        "import os\n",
        "from pydrive.auth import GoogleAuth\n",
        "from pydrive.drive import GoogleDrive\n",
        "from google.colab import auth\n",
        "from oauth2client.client import GoogleCredentials"
      ],
      "execution_count": 0,
      "outputs": []
    },
    {
      "metadata": {
        "id": "QeFX0mTu66yp",
        "colab_type": "code",
        "colab": {}
      },
      "cell_type": "code",
      "source": [
        "auth.authenticate_user()\n",
        "gauth = GoogleAuth()\n",
        "gauth.credentials = GoogleCredentials.get_application_default()\n",
        "drive = GoogleDrive(gauth)"
      ],
      "execution_count": 0,
      "outputs": []
    },
    {
      "metadata": {
        "id": "ZLawO-907Ouz",
        "colab_type": "code",
        "colab": {}
      },
      "cell_type": "code",
      "source": [
        "download = drive.CreateFile({'id': '1kfUcDYHPdGkOyfhsYO2xPYQ9THStwdZu'})\n",
        "download.GetContentFile('102623729836648532953-raw-reply-pairs.pkl')"
      ],
      "execution_count": 0,
      "outputs": []
    },
    {
      "metadata": {
        "id": "XSoUCUN48Wzg",
        "colab_type": "code",
        "colab": {}
      },
      "cell_type": "code",
      "source": [
        "download = drive.CreateFile({'id': '1V-ogRtNQ9xr5JglcPw-zAjp-O7mjzEva'})\n",
        "download.GetContentFile('108371130441830548619-raw-reply-pairs.pkl')"
      ],
      "execution_count": 0,
      "outputs": []
    },
    {
      "metadata": {
        "id": "GJEQPvuEVRPF",
        "colab_type": "code",
        "colab": {}
      },
      "cell_type": "code",
      "source": [
        "import tensorflow as tf\n",
        "import numpy as np\n",
        "import pickle"
      ],
      "execution_count": 0,
      "outputs": []
    },
    {
      "metadata": {
        "id": "Tkz9Pl7SzPNS",
        "colab_type": "code",
        "colab": {}
      },
      "cell_type": "code",
      "source": [
        "\n",
        "with open('102623729836648532953-raw-reply-pairs.pkl', 'rb') as f:\n",
        "    data_102 = pickle.load(f)\n",
        "with open('108371130441830548619-raw-reply-pairs.pkl', 'rb') as f:\n",
        "    data_108 = pickle.load(f)\n"
      ],
      "execution_count": 0,
      "outputs": []
    },
    {
      "metadata": {
        "id": "nB46jItB86Z1",
        "colab_type": "code",
        "colab": {
          "base_uri": "https://localhost:8080/",
          "height": 53
        },
        "outputId": "ab276a08-6cf5-4fdd-ce2e-58e314832206"
      },
      "cell_type": "code",
      "source": [
        "print('Number of records in 102:', len(data_102))\n",
        "print('Number of records in 108:', len(data_108))\n",
        "email_data=data_102"
      ],
      "execution_count": 39,
      "outputs": [
        {
          "output_type": "stream",
          "text": [
            "Number of records in 102: 856\n",
            "Number of records in 108: 1969\n"
          ],
          "name": "stdout"
        }
      ]
    },
    {
      "metadata": {
        "id": "N6m1PM9-_fKZ",
        "colab_type": "code",
        "colab": {}
      },
      "cell_type": "code",
      "source": [
        "i=np.random.random_integers(len(email_data)-1)\n",
        "print(i)\n",
        "print(email_data[i][0]['message_core_body_sentences'])\n",
        "print(email_data[i][1]['message_core_body_sentences'])"
      ],
      "execution_count": 0,
      "outputs": []
    },
    {
      "metadata": {
        "id": "nycYEr58GZEE",
        "colab_type": "code",
        "colab": {}
      },
      "cell_type": "code",
      "source": [
        "import requests\n",
        "import json\n",
        "import numpy as np\n",
        "\n",
        "\n",
        "def _chunks(collection, chunk_size):\n",
        "    chunk_size = max(1, chunk_size)\n",
        "    return (collection[i:i + chunk_size] for i in range(0, len(collection), chunk_size))\n",
        "\n",
        "\n",
        "class USEClient(object):\n",
        "    def __init__(self, base_url=\"https://sentence-encoder.pointapi.com\"):\n",
        "        \"\"\" Create a new Universal Sentence Encoder Client\n",
        "        :param base_url: the base URL of the server\n",
        "        \"\"\"\n",
        "        self.endpoint = base_url + '/v1/models/USE:predict'\n",
        "\n",
        "    def encode_text(self, text):\n",
        "        \"\"\" Encode a piece of text.\n",
        "        :param text: some text (str)\n",
        "        :return: a np.array of shape (512,)\n",
        "        \"\"\"\n",
        "        body = {\"instances\": [text]}\n",
        "        r = requests.post(self.endpoint, data=json.dumps(body))\n",
        "        return np.array(r.json()['predictions'][0])\n",
        "\n",
        "    def encode_texts(self, texts, batch_size=1000):\n",
        "        \"\"\" Encode a piece of text.\n",
        "        Note: Requests will be sent in batches of maximum 1000 (`batch_size`)\n",
        "        sentences per batch to avoid `413 Request Entity Too Large` error.\n",
        "        :param texts: some texts ([str, ...])\n",
        "        :param batch_size: how many sentences to put in a single request\n",
        "        :return: a np.array of shape (?, 512)\n",
        "        \"\"\"\n",
        "        results = []\n",
        "        for batch in _chunks(texts, batch_size):\n",
        "            body = {\"instances\": batch}\n",
        "            r = requests.post(self.endpoint, data=json.dumps(body))\n",
        "            results.append(np.array(r.json()['predictions']))\n",
        "\n",
        "        return np.concatenate(results)\n",
        "\n",
        "    def sentence_similarity(self, s0, s1):\n",
        "        \"\"\" Compute sentence similarity\n",
        "        :param s0: a sentence (str)\n",
        "        :param s1: a sentence (str)\n",
        "        :return: a float in range [0,1]\n",
        "        \"\"\"\n",
        "        v0 = np.array(self.encode_text(s0))\n",
        "        v1 = np.array(self.encode_text(s1))\n",
        "\n",
        "        return np.dot(v0, v1) / (np.sqrt(v0.dot(v0)) * np.sqrt(v1.dot(v1)))\n",
        "client = USEClient(base_url=\"https://sentence-encoder.pointapi.com\")\n",
        "sentences = [\"Hello!\", \"How do you do?\"]\n",
        "encodings=client.encode_texts(sentences)\n",
        "print(encodings)\n",
        "print(encodings.shape)"
      ],
      "execution_count": 0,
      "outputs": []
    },
    {
      "metadata": {
        "id": "3oPVYcHoM_P5",
        "colab_type": "code",
        "colab": {}
      },
      "cell_type": "code",
      "source": [
        "email_response_embeddings=[[] for i in range(len(email_data))]\n",
        "for i in range(len(email_data)):\n",
        "  if (len(email_data[i][1]['message_core_body_sentences'])!=0):\n",
        "    email_response_embeddings[i]=client.encode_texts(email_data[i][1]['message_core_body_sentences'])\n",
        "  "
      ],
      "execution_count": 0,
      "outputs": []
    },
    {
      "metadata": {
        "id": "n7Ht_-pYPwvx",
        "colab_type": "code",
        "colab": {}
      },
      "cell_type": "code",
      "source": [
        "response_phrase_embedding=[]\n",
        "for i in range(len(email_response_embeddings)):\n",
        "  for j in range(len(email_response_embeddings[i])):\n",
        "    print(i j)\n",
        "    response_phrase_embedding=response_phrase_embedding.append(email_response_embeddings[i][j])\n",
        "    "
      ],
      "execution_count": 0,
      "outputs": []
    },
    {
      "metadata": {
        "id": "YVieV8XuTwWq",
        "colab_type": "code",
        "colab": {
          "base_uri": "https://localhost:8080/",
          "height": 72
        },
        "outputId": "d2df6f93-1121-4006-ebe1-d1980986dd27"
      },
      "cell_type": "code",
      "source": [
        "sentences = [\"How do you do!\", \"How do you do?\"]\n",
        "encodings=client.encode_texts(sentences)\n",
        "print(np.linalg.norm(encodings[0]-encodings[1]))\n",
        "print(np.dot(encodings[0],encodings[1]))\n",
        "print(encodings.shape)"
      ],
      "execution_count": 71,
      "outputs": [
        {
          "output_type": "stream",
          "text": [
            "0.0\n",
            "0.9999997814778623\n",
            "(2, 512)\n"
          ],
          "name": "stdout"
        }
      ]
    }
  ]
}